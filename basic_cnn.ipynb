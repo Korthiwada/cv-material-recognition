{
  "nbformat": 4,
  "nbformat_minor": 0,
  "metadata": {
    "colab": {
      "name": "CNN_Vision.ipynb",
      "version": "0.3.2",
      "provenance": []
    },
    "kernelspec": {
      "name": "python3",
      "display_name": "Python 3"
    },
    "accelerator": "GPU"
  },
  "cells": [
    {
      "metadata": {
        "id": "u7GH6Fn6c80_",
        "colab_type": "code",
        "outputId": "20e09d9c-1c95-4ab1-89dd-185c84bee563",
        "colab": {
          "base_uri": "https://localhost:8080/",
          "height": 35
        }
      },
      "cell_type": "code",
      "source": [
        "from google.colab import drive\n",
        "drive.mount('/content/drive')"
      ],
      "execution_count": 0,
      "outputs": [
        {
          "output_type": "stream",
          "text": [
            "Drive already mounted at /content/drive; to attempt to forcibly remount, call drive.mount(\"/content/drive\", force_remount=True).\n"
          ],
          "name": "stdout"
        }
      ]
    },
    {
      "metadata": {
        "id": "fxp9VnDqdFFp",
        "colab_type": "code",
        "colab": {}
      },
      "cell_type": "code",
      "source": [
        "import numpy as np\n",
        "import pandas as pd\n",
        "from tensorflow.python.lib.io import file_io\n",
        "from skimage.transform import resize\n",
        "from sklearn.model_selection import train_test_split\n",
        "from keras.utils import to_categorical\n",
        "from keras.applications.inception_v3 import InceptionV3\n",
        "from keras.models import Model\n",
        "from keras.layers import GlobalAveragePooling2D, Dense \n",
        "from keras.preprocessing.image import ImageDataGenerator\n",
        "from keras.optimizers import Adam, SGD\n",
        "from keras.callbacks import TensorBoard, ReduceLROnPlateau, EarlyStopping, Callback\n",
        "import h5py\n",
        "import cv2\n",
        "import os\n",
        "from tqdm import tqdm\n",
        "from random import shuffle\n",
        "import keras\n",
        "from keras.layers import Conv2D, MaxPooling2D, Dense, Flatten, Input, Dropout\n",
        "from keras.activations import relu\n",
        "from keras.models import Model, Sequential\n",
        "from keras.utils import to_categorical"
      ],
      "execution_count": 0,
      "outputs": []
    },
    {
      "metadata": {
        "id": "P3OiwGu6dZVL",
        "colab_type": "code",
        "colab": {}
      },
      "cell_type": "code",
      "source": [
        "NUM_OF_CLASSES = 4\n",
        "img_height = 150\n",
        "img_width = 150\n",
        "epochs_all_layers   = 100\n",
        "batch_size          = 32\n",
        "LR = 1e-3"
      ],
      "execution_count": 0,
      "outputs": []
    },
    {
      "metadata": {
        "colab_type": "code",
        "id": "odBllqJKk3_N",
        "outputId": "a16c999a-f50e-4e91-9446-cc0fb83df135",
        "colab": {
          "base_uri": "https://localhost:8080/",
          "height": 14489
        }
      },
      "cell_type": "code",
      "source": [
        "\n",
        "file_paths = [\"drive/My Drive/vision_dataset/image/metal/\",\"drive/My Drive/vision_dataset/image/leather/\",\"drive/My Drive/vision_dataset/image/wood/\",\"drive/My Drive/vision_dataset/image/glass/\"]\n",
        "dataset = []\n",
        "label = -1\n",
        "for file_path in file_paths:\n",
        "  label = label + 1\n",
        "  for img in tqdm(os.listdir(file_path)):\n",
        "    print(img) \n",
        "    path = os.path.join(file_path,img)\n",
        "    image = cv2.imread(path)\n",
        "    image = cv2.resize(image, (img_height, img_width))\n",
        "    print(image.shape)\n",
        "    dataset.append([np.array(image),np.array(label)])"
      ],
      "execution_count": 0,
      "outputs": [
        {
          "output_type": "stream",
          "text": [
            "\r  0%|          | 0/100 [00:00<?, ?it/s]"
          ],
          "name": "stderr"
        },
        {
          "output_type": "stream",
          "text": [
            "metal_moderate_006_new.jpg\n"
          ],
          "name": "stdout"
        },
        {
          "output_type": "stream",
          "text": [
            "  2%|▏         | 2/100 [00:00<00:22,  4.41it/s]"
          ],
          "name": "stderr"
        },
        {
          "output_type": "stream",
          "text": [
            "(150, 150, 3)\n",
            "metal_object_019_new.jpg\n",
            "(150, 150, 3)\n",
            "metal_object_018_new.jpg\n"
          ],
          "name": "stdout"
        },
        {
          "output_type": "stream",
          "text": [
            "  4%|▍         | 4/100 [00:00<00:19,  4.94it/s]"
          ],
          "name": "stderr"
        },
        {
          "output_type": "stream",
          "text": [
            "(150, 150, 3)\n",
            "metal_moderate_024_new.jpg\n",
            "(150, 150, 3)\n",
            "metal_moderate_023_new.jpg\n"
          ],
          "name": "stdout"
        },
        {
          "output_type": "stream",
          "text": [
            "  6%|▌         | 6/100 [00:01<00:20,  4.53it/s]"
          ],
          "name": "stderr"
        },
        {
          "output_type": "stream",
          "text": [
            "(150, 150, 3)\n",
            "metal_moderate_032_new.jpg\n",
            "(150, 150, 3)\n",
            "metal_object_038_new.jpg\n"
          ],
          "name": "stdout"
        },
        {
          "output_type": "stream",
          "text": [
            "  8%|▊         | 8/100 [00:01<00:18,  5.09it/s]"
          ],
          "name": "stderr"
        },
        {
          "output_type": "stream",
          "text": [
            "(150, 150, 3)\n",
            "metal_object_029_new.jpg\n",
            "(150, 150, 3)\n",
            "metal_object_028_new.jpg\n"
          ],
          "name": "stdout"
        },
        {
          "output_type": "stream",
          "text": [
            "\r  9%|▉         | 9/100 [00:01<00:17,  5.23it/s]"
          ],
          "name": "stderr"
        },
        {
          "output_type": "stream",
          "text": [
            "(150, 150, 3)\n",
            "metal_object_039_new.jpg\n"
          ],
          "name": "stdout"
        },
        {
          "output_type": "stream",
          "text": [
            "\r 10%|█         | 10/100 [00:02<00:18,  4.89it/s]"
          ],
          "name": "stderr"
        },
        {
          "output_type": "stream",
          "text": [
            "(150, 150, 3)\n",
            "metal_object_044_new.jpg\n"
          ],
          "name": "stdout"
        },
        {
          "output_type": "stream",
          "text": [
            " 12%|█▏        | 12/100 [00:02<00:17,  5.07it/s]"
          ],
          "name": "stderr"
        },
        {
          "output_type": "stream",
          "text": [
            "(150, 150, 3)\n",
            "metal_object_034_new.jpg\n",
            "(150, 150, 3)\n",
            "metal_moderate_001_new.jpg\n"
          ],
          "name": "stdout"
        },
        {
          "output_type": "stream",
          "text": [
            " 14%|█▍        | 14/100 [00:02<00:16,  5.24it/s]"
          ],
          "name": "stderr"
        },
        {
          "output_type": "stream",
          "text": [
            "(150, 150, 3)\n",
            "metal_moderate_004_new.jpg\n",
            "(150, 150, 3)\n",
            "metal_object_036_new.jpg\n"
          ],
          "name": "stdout"
        },
        {
          "output_type": "stream",
          "text": [
            " 16%|█▌        | 16/100 [00:03<00:15,  5.48it/s]"
          ],
          "name": "stderr"
        },
        {
          "output_type": "stream",
          "text": [
            "(150, 150, 3)\n",
            "metal_moderate_018_new.jpg\n",
            "(150, 150, 3)\n",
            "metal_moderate_047_new.jpg\n"
          ],
          "name": "stdout"
        },
        {
          "output_type": "stream",
          "text": [
            " 18%|█▊        | 18/100 [00:03<00:15,  5.39it/s]"
          ],
          "name": "stderr"
        },
        {
          "output_type": "stream",
          "text": [
            "(150, 150, 3)\n",
            "metal_object_006_new.jpg\n",
            "(150, 150, 3)\n",
            "metal_moderate_049_new.jpg\n"
          ],
          "name": "stdout"
        },
        {
          "output_type": "stream",
          "text": [
            " 20%|██        | 20/100 [00:03<00:14,  5.61it/s]"
          ],
          "name": "stderr"
        },
        {
          "output_type": "stream",
          "text": [
            "(150, 150, 3)\n",
            "metal_object_014_new.jpg\n",
            "(150, 150, 3)\n",
            "metal_object_008_new.jpg\n"
          ],
          "name": "stdout"
        },
        {
          "output_type": "stream",
          "text": [
            " 22%|██▏       | 22/100 [00:04<00:14,  5.30it/s]"
          ],
          "name": "stderr"
        },
        {
          "output_type": "stream",
          "text": [
            "(150, 150, 3)\n",
            "metal_object_015_new.jpg\n",
            "(150, 150, 3)\n",
            "metal_object_033_new.jpg\n"
          ],
          "name": "stdout"
        },
        {
          "output_type": "stream",
          "text": [
            "\r 23%|██▎       | 23/100 [00:04<00:19,  3.93it/s]"
          ],
          "name": "stderr"
        },
        {
          "output_type": "stream",
          "text": [
            "(150, 150, 3)\n",
            "metal_moderate_038_new.jpg\n"
          ],
          "name": "stdout"
        },
        {
          "output_type": "stream",
          "text": [
            " 25%|██▌       | 25/100 [00:05<00:15,  4.72it/s]"
          ],
          "name": "stderr"
        },
        {
          "output_type": "stream",
          "text": [
            "(150, 150, 3)\n",
            "metal_object_004_new.jpg\n",
            "(150, 150, 3)\n",
            "metal_object_049_new.jpg\n"
          ],
          "name": "stdout"
        },
        {
          "output_type": "stream",
          "text": [
            " 27%|██▋       | 27/100 [00:05<00:13,  5.38it/s]"
          ],
          "name": "stderr"
        },
        {
          "output_type": "stream",
          "text": [
            "(150, 150, 3)\n",
            "metal_moderate_012_new.jpg\n",
            "(150, 150, 3)\n",
            "metal_object_024_new.jpg\n"
          ],
          "name": "stdout"
        },
        {
          "output_type": "stream",
          "text": [
            " 29%|██▉       | 29/100 [00:05<00:12,  5.67it/s]"
          ],
          "name": "stderr"
        },
        {
          "output_type": "stream",
          "text": [
            "(150, 150, 3)\n",
            "metal_moderate_044_new.jpg\n",
            "(150, 150, 3)\n",
            "metal_moderate_022_new.jpg\n"
          ],
          "name": "stdout"
        },
        {
          "output_type": "stream",
          "text": [
            "\r 30%|███       | 30/100 [00:05<00:12,  5.49it/s]"
          ],
          "name": "stderr"
        },
        {
          "output_type": "stream",
          "text": [
            "(150, 150, 3)\n",
            "metal_moderate_045_new.jpg\n"
          ],
          "name": "stdout"
        },
        {
          "output_type": "stream",
          "text": [
            " 32%|███▏      | 32/100 [00:06<00:13,  4.91it/s]"
          ],
          "name": "stderr"
        },
        {
          "output_type": "stream",
          "text": [
            "(150, 150, 3)\n",
            "metal_moderate_016_new.jpg\n",
            "(150, 150, 3)\n",
            "metal_object_011_new.jpg\n"
          ],
          "name": "stdout"
        },
        {
          "output_type": "stream",
          "text": [
            "\r 33%|███▎      | 33/100 [00:06<00:13,  5.14it/s]"
          ],
          "name": "stderr"
        },
        {
          "output_type": "stream",
          "text": [
            "(150, 150, 3)\n",
            "metal_moderate_003_new.jpg\n"
          ],
          "name": "stdout"
        },
        {
          "output_type": "stream",
          "text": [
            " 35%|███▌      | 35/100 [00:06<00:12,  5.24it/s]"
          ],
          "name": "stderr"
        },
        {
          "output_type": "stream",
          "text": [
            "(150, 150, 3)\n",
            "metal_moderate_048_new.jpg\n",
            "(150, 150, 3)\n",
            "metal_object_010_new.jpg\n"
          ],
          "name": "stdout"
        },
        {
          "output_type": "stream",
          "text": [
            "\r 36%|███▌      | 36/100 [00:07<00:12,  5.25it/s]"
          ],
          "name": "stderr"
        },
        {
          "output_type": "stream",
          "text": [
            "(150, 150, 3)\n",
            "metal_object_022_new.jpg\n"
          ],
          "name": "stdout"
        },
        {
          "output_type": "stream",
          "text": [
            "\r 37%|███▋      | 37/100 [00:07<00:12,  4.94it/s]"
          ],
          "name": "stderr"
        },
        {
          "output_type": "stream",
          "text": [
            "(150, 150, 3)\n",
            "metal_object_026_new.jpg\n"
          ],
          "name": "stdout"
        },
        {
          "output_type": "stream",
          "text": [
            " 39%|███▉      | 39/100 [00:07<00:12,  4.93it/s]"
          ],
          "name": "stderr"
        },
        {
          "output_type": "stream",
          "text": [
            "(150, 150, 3)\n",
            "metal_object_007_new.jpg\n",
            "(150, 150, 3)\n",
            "metal_object_045_new.jpg\n"
          ],
          "name": "stdout"
        },
        {
          "output_type": "stream",
          "text": [
            "\r 40%|████      | 40/100 [00:07<00:11,  5.24it/s]"
          ],
          "name": "stderr"
        },
        {
          "output_type": "stream",
          "text": [
            "(150, 150, 3)\n",
            "metal_moderate_019_new.jpg\n"
          ],
          "name": "stdout"
        },
        {
          "output_type": "stream",
          "text": [
            "\r 41%|████      | 41/100 [00:08<00:11,  5.09it/s]"
          ],
          "name": "stderr"
        },
        {
          "output_type": "stream",
          "text": [
            "(150, 150, 3)\n",
            "metal_object_001_new.jpg\n"
          ],
          "name": "stdout"
        },
        {
          "output_type": "stream",
          "text": [
            " 43%|████▎     | 43/100 [00:08<00:12,  4.42it/s]"
          ],
          "name": "stderr"
        },
        {
          "output_type": "stream",
          "text": [
            "(150, 150, 3)\n",
            "metal_moderate_039_new.jpg\n",
            "(150, 150, 3)\n",
            "metal_moderate_033_new.jpg\n"
          ],
          "name": "stdout"
        },
        {
          "output_type": "stream",
          "text": [
            " 45%|████▌     | 45/100 [00:09<00:11,  4.73it/s]"
          ],
          "name": "stderr"
        },
        {
          "output_type": "stream",
          "text": [
            "(150, 150, 3)\n",
            "metal_moderate_013_new.jpg\n",
            "(150, 150, 3)\n",
            "metal_object_025_new.jpg\n"
          ],
          "name": "stdout"
        },
        {
          "output_type": "stream",
          "text": [
            " 47%|████▋     | 47/100 [00:09<00:10,  5.26it/s]"
          ],
          "name": "stderr"
        },
        {
          "output_type": "stream",
          "text": [
            "(150, 150, 3)\n",
            "metal_object_003_new.jpg\n",
            "(150, 150, 3)\n",
            "metal_moderate_031_new.jpg\n"
          ],
          "name": "stdout"
        },
        {
          "output_type": "stream",
          "text": [
            " 49%|████▉     | 49/100 [00:10<00:11,  4.28it/s]"
          ],
          "name": "stderr"
        },
        {
          "output_type": "stream",
          "text": [
            "(150, 150, 3)\n",
            "metal_moderate_043_new.jpg\n",
            "(150, 150, 3)\n",
            "metal_object_031_new.jpg\n"
          ],
          "name": "stdout"
        },
        {
          "output_type": "stream",
          "text": [
            " 51%|█████     | 51/100 [00:10<00:09,  5.01it/s]"
          ],
          "name": "stderr"
        },
        {
          "output_type": "stream",
          "text": [
            "(150, 150, 3)\n",
            "metal_object_035_new.jpg\n",
            "(150, 150, 3)\n",
            "metal_moderate_017_new.jpg\n"
          ],
          "name": "stdout"
        },
        {
          "output_type": "stream",
          "text": [
            "\r 52%|█████▏    | 52/100 [00:10<00:09,  5.15it/s]"
          ],
          "name": "stderr"
        },
        {
          "output_type": "stream",
          "text": [
            "(150, 150, 3)\n",
            "metal_object_041_new.jpg\n"
          ],
          "name": "stdout"
        },
        {
          "output_type": "stream",
          "text": [
            " 54%|█████▍    | 54/100 [00:11<00:09,  4.70it/s]"
          ],
          "name": "stderr"
        },
        {
          "output_type": "stream",
          "text": [
            "(150, 150, 3)\n",
            "metal_moderate_011_new.jpg\n",
            "(150, 150, 3)\n",
            "metal_moderate_009_new.jpg\n"
          ],
          "name": "stdout"
        },
        {
          "output_type": "stream",
          "text": [
            " 56%|█████▌    | 56/100 [00:11<00:08,  5.12it/s]"
          ],
          "name": "stderr"
        },
        {
          "output_type": "stream",
          "text": [
            "(150, 150, 3)\n",
            "metal_moderate_002_new.jpg\n",
            "(150, 150, 3)\n",
            "metal_moderate_035_new.jpg\n"
          ],
          "name": "stdout"
        },
        {
          "output_type": "stream",
          "text": [
            "\r 57%|█████▋    | 57/100 [00:11<00:07,  5.49it/s]"
          ],
          "name": "stderr"
        },
        {
          "output_type": "stream",
          "text": [
            "(150, 150, 3)\n",
            "metal_object_032_new.jpg\n"
          ],
          "name": "stdout"
        },
        {
          "output_type": "stream",
          "text": [
            " 59%|█████▉    | 59/100 [00:11<00:07,  5.65it/s]"
          ],
          "name": "stderr"
        },
        {
          "output_type": "stream",
          "text": [
            "(150, 150, 3)\n",
            "metal_object_050_new.jpg\n",
            "(150, 150, 3)\n",
            "metal_moderate_042_new.jpg\n"
          ],
          "name": "stdout"
        },
        {
          "output_type": "stream",
          "text": [
            " 61%|██████    | 61/100 [00:12<00:06,  5.84it/s]"
          ],
          "name": "stderr"
        },
        {
          "output_type": "stream",
          "text": [
            "(150, 150, 3)\n",
            "metal_moderate_026_new.jpg\n",
            "(150, 150, 3)\n",
            "metal_moderate_010_new.jpg\n"
          ],
          "name": "stdout"
        },
        {
          "output_type": "stream",
          "text": [
            " 63%|██████▎   | 63/100 [00:12<00:06,  5.98it/s]"
          ],
          "name": "stderr"
        },
        {
          "output_type": "stream",
          "text": [
            "(150, 150, 3)\n",
            "metal_moderate_041_new.jpg\n",
            "(150, 150, 3)\n",
            "metal_object_040_new.jpg\n"
          ],
          "name": "stdout"
        },
        {
          "output_type": "stream",
          "text": [
            "\r 64%|██████▍   | 64/100 [00:12<00:06,  5.95it/s]"
          ],
          "name": "stderr"
        },
        {
          "output_type": "stream",
          "text": [
            "(150, 150, 3)\n",
            "metal_object_017_new.jpg\n"
          ],
          "name": "stdout"
        },
        {
          "output_type": "stream",
          "text": [
            "\r 65%|██████▌   | 65/100 [00:13<00:08,  4.19it/s]"
          ],
          "name": "stderr"
        },
        {
          "output_type": "stream",
          "text": [
            "(150, 150, 3)\n",
            "metal_object_043_new.jpg\n"
          ],
          "name": "stdout"
        },
        {
          "output_type": "stream",
          "text": [
            " 67%|██████▋   | 67/100 [00:13<00:07,  4.41it/s]"
          ],
          "name": "stderr"
        },
        {
          "output_type": "stream",
          "text": [
            "(150, 150, 3)\n",
            "metal_moderate_005_new.jpg\n",
            "(150, 150, 3)\n",
            "metal_moderate_007_new.jpg\n"
          ],
          "name": "stdout"
        },
        {
          "output_type": "stream",
          "text": [
            " 69%|██████▉   | 69/100 [00:13<00:06,  4.94it/s]"
          ],
          "name": "stderr"
        },
        {
          "output_type": "stream",
          "text": [
            "(150, 150, 3)\n",
            "metal_object_047_new.jpg\n",
            "(150, 150, 3)\n",
            "metal_moderate_020_new.jpg\n"
          ],
          "name": "stdout"
        },
        {
          "output_type": "stream",
          "text": [
            "\r 70%|███████   | 70/100 [00:14<00:05,  5.07it/s]"
          ],
          "name": "stderr"
        },
        {
          "output_type": "stream",
          "text": [
            "(150, 150, 3)\n",
            "metal_moderate_008_new.jpg\n"
          ],
          "name": "stdout"
        },
        {
          "output_type": "stream",
          "text": [
            " 72%|███████▏  | 72/100 [00:14<00:05,  5.18it/s]"
          ],
          "name": "stderr"
        },
        {
          "output_type": "stream",
          "text": [
            "(150, 150, 3)\n",
            "metal_object_020_new.jpg\n",
            "(150, 150, 3)\n",
            "metal_moderate_029_new.jpg\n"
          ],
          "name": "stdout"
        },
        {
          "output_type": "stream",
          "text": [
            " 74%|███████▍  | 74/100 [00:14<00:04,  5.35it/s]"
          ],
          "name": "stderr"
        },
        {
          "output_type": "stream",
          "text": [
            "(150, 150, 3)\n",
            "metal_moderate_037_new.jpg\n",
            "(150, 150, 3)\n",
            "metal_object_002_new.jpg\n"
          ],
          "name": "stdout"
        },
        {
          "output_type": "stream",
          "text": [
            " 76%|███████▌  | 76/100 [00:15<00:04,  5.33it/s]"
          ],
          "name": "stderr"
        },
        {
          "output_type": "stream",
          "text": [
            "(150, 150, 3)\n",
            "metal_moderate_036_new.jpg\n",
            "(150, 150, 3)\n",
            "metal_object_030_new.jpg\n"
          ],
          "name": "stdout"
        },
        {
          "output_type": "stream",
          "text": [
            " 78%|███████▊  | 78/100 [00:15<00:04,  4.90it/s]"
          ],
          "name": "stderr"
        },
        {
          "output_type": "stream",
          "text": [
            "(150, 150, 3)\n",
            "metal_object_037_new.jpg\n",
            "(150, 150, 3)\n",
            "metal_moderate_028_new.jpg\n"
          ],
          "name": "stdout"
        },
        {
          "output_type": "stream",
          "text": [
            " 80%|████████  | 80/100 [00:15<00:03,  5.51it/s]"
          ],
          "name": "stderr"
        },
        {
          "output_type": "stream",
          "text": [
            "(150, 150, 3)\n",
            "metal_moderate_021_new.jpg\n",
            "(150, 150, 3)\n",
            "metal_object_023_new.jpg\n"
          ],
          "name": "stdout"
        },
        {
          "output_type": "stream",
          "text": [
            " 82%|████████▏ | 82/100 [00:16<00:03,  5.71it/s]"
          ],
          "name": "stderr"
        },
        {
          "output_type": "stream",
          "text": [
            "(150, 150, 3)\n",
            "metal_object_027_new.jpg\n",
            "(150, 150, 3)\n",
            "metal_object_005_new.jpg\n"
          ],
          "name": "stdout"
        },
        {
          "output_type": "stream",
          "text": [
            " 84%|████████▍ | 84/100 [00:16<00:02,  5.87it/s]"
          ],
          "name": "stderr"
        },
        {
          "output_type": "stream",
          "text": [
            "(150, 150, 3)\n",
            "metal_moderate_040_new.jpg\n",
            "(150, 150, 3)\n",
            "metal_object_021_new.jpg\n"
          ],
          "name": "stdout"
        },
        {
          "output_type": "stream",
          "text": [
            " 86%|████████▌ | 86/100 [00:17<00:02,  5.59it/s]"
          ],
          "name": "stderr"
        },
        {
          "output_type": "stream",
          "text": [
            "(150, 150, 3)\n",
            "metal_moderate_014_new.jpg\n",
            "(150, 150, 3)\n",
            "metal_object_012_new.jpg\n"
          ],
          "name": "stdout"
        },
        {
          "output_type": "stream",
          "text": [
            " 88%|████████▊ | 88/100 [00:17<00:02,  5.86it/s]"
          ],
          "name": "stderr"
        },
        {
          "output_type": "stream",
          "text": [
            "(150, 150, 3)\n",
            "metal_object_046_new.jpg\n",
            "(150, 150, 3)\n",
            "metal_moderate_027_new.jpg\n"
          ],
          "name": "stdout"
        },
        {
          "output_type": "stream",
          "text": [
            "\r 89%|████████▉ | 89/100 [00:17<00:01,  5.77it/s]"
          ],
          "name": "stderr"
        },
        {
          "output_type": "stream",
          "text": [
            "(150, 150, 3)\n",
            "metal_object_016_new.jpg\n"
          ],
          "name": "stdout"
        },
        {
          "output_type": "stream",
          "text": [
            " 91%|█████████ | 91/100 [00:18<00:01,  4.75it/s]"
          ],
          "name": "stderr"
        },
        {
          "output_type": "stream",
          "text": [
            "(150, 150, 3)\n",
            "metal_object_042_new.jpg\n",
            "(150, 150, 3)\n",
            "metal_moderate_050_new.jpg\n"
          ],
          "name": "stdout"
        },
        {
          "output_type": "stream",
          "text": [
            "\r 92%|█████████▏| 92/100 [00:18<00:01,  5.17it/s]"
          ],
          "name": "stderr"
        },
        {
          "output_type": "stream",
          "text": [
            "(150, 150, 3)\n",
            "metal_moderate_046_new.jpg\n"
          ],
          "name": "stdout"
        },
        {
          "output_type": "stream",
          "text": [
            "\r 93%|█████████▎| 93/100 [00:18<00:01,  3.89it/s]"
          ],
          "name": "stderr"
        },
        {
          "output_type": "stream",
          "text": [
            "(150, 150, 3)\n",
            "metal_object_013_new.jpg\n"
          ],
          "name": "stdout"
        },
        {
          "output_type": "stream",
          "text": [
            " 95%|█████████▌| 95/100 [00:18<00:01,  4.58it/s]"
          ],
          "name": "stderr"
        },
        {
          "output_type": "stream",
          "text": [
            "(150, 150, 3)\n",
            "metal_moderate_025_new.jpg\n",
            "(150, 150, 3)\n",
            "metal_moderate_034_new.jpg\n"
          ],
          "name": "stdout"
        },
        {
          "output_type": "stream",
          "text": [
            " 97%|█████████▋| 97/100 [00:19<00:00,  5.09it/s]"
          ],
          "name": "stderr"
        },
        {
          "output_type": "stream",
          "text": [
            "(150, 150, 3)\n",
            "metal_moderate_015_new.jpg\n",
            "(150, 150, 3)\n",
            "metal_object_048_new.jpg\n"
          ],
          "name": "stdout"
        },
        {
          "output_type": "stream",
          "text": [
            " 99%|█████████▉| 99/100 [00:19<00:00,  5.12it/s]"
          ],
          "name": "stderr"
        },
        {
          "output_type": "stream",
          "text": [
            "(150, 150, 3)\n",
            "metal_moderate_030_new.jpg\n",
            "(150, 150, 3)\n",
            "metal_object_009_new.jpg\n"
          ],
          "name": "stdout"
        },
        {
          "output_type": "stream",
          "text": [
            "100%|██████████| 100/100 [00:20<00:00,  4.62it/s]\n",
            "  0%|          | 0/100 [00:00<?, ?it/s]"
          ],
          "name": "stderr"
        },
        {
          "output_type": "stream",
          "text": [
            "(150, 150, 3)\n",
            "leather_moderate_027_new.jpg\n"
          ],
          "name": "stdout"
        },
        {
          "output_type": "stream",
          "text": [
            "  2%|▏         | 2/100 [00:00<00:18,  5.38it/s]"
          ],
          "name": "stderr"
        },
        {
          "output_type": "stream",
          "text": [
            "(150, 150, 3)\n",
            "leather_object_040_new.jpg\n",
            "(150, 150, 3)\n",
            "leather_moderate_009_new.jpg\n"
          ],
          "name": "stdout"
        },
        {
          "output_type": "stream",
          "text": [
            "  4%|▍         | 4/100 [00:00<00:17,  5.46it/s]"
          ],
          "name": "stderr"
        },
        {
          "output_type": "stream",
          "text": [
            "(150, 150, 3)\n",
            "leather_object_021_new.jpg\n",
            "(150, 150, 3)\n",
            "leather_object_002_new.jpg\n"
          ],
          "name": "stdout"
        },
        {
          "output_type": "stream",
          "text": [
            "\r  5%|▌         | 5/100 [00:00<00:16,  5.61it/s]"
          ],
          "name": "stderr"
        },
        {
          "output_type": "stream",
          "text": [
            "(150, 150, 3)\n",
            "leather_object_031_new.jpg\n"
          ],
          "name": "stdout"
        },
        {
          "output_type": "stream",
          "text": [
            "  7%|▋         | 7/100 [00:01<00:21,  4.38it/s]"
          ],
          "name": "stderr"
        },
        {
          "output_type": "stream",
          "text": [
            "(150, 150, 3)\n",
            "leather_moderate_001_new.jpg\n",
            "(150, 150, 3)\n",
            "leather_object_009_new.jpg\n"
          ],
          "name": "stdout"
        },
        {
          "output_type": "stream",
          "text": [
            "  9%|▉         | 9/100 [00:01<00:19,  4.77it/s]"
          ],
          "name": "stderr"
        },
        {
          "output_type": "stream",
          "text": [
            "(150, 150, 3)\n",
            "leather_object_046_new.jpg\n",
            "(150, 150, 3)\n",
            "leather_object_042_new.jpg\n"
          ],
          "name": "stdout"
        },
        {
          "output_type": "stream",
          "text": [
            "\r 10%|█         | 10/100 [00:02<00:18,  4.89it/s]"
          ],
          "name": "stderr"
        },
        {
          "output_type": "stream",
          "text": [
            "(150, 150, 3)\n",
            "leather_object_036_new.jpg\n"
          ],
          "name": "stdout"
        },
        {
          "output_type": "stream",
          "text": [
            " 12%|█▏        | 12/100 [00:02<00:20,  4.30it/s]"
          ],
          "name": "stderr"
        },
        {
          "output_type": "stream",
          "text": [
            "(150, 150, 3)\n",
            "leather_moderate_013_new.jpg\n",
            "(150, 150, 3)\n",
            "leather_moderate_049_new.jpg\n"
          ],
          "name": "stdout"
        },
        {
          "output_type": "stream",
          "text": [
            " 14%|█▍        | 14/100 [00:02<00:17,  4.93it/s]"
          ],
          "name": "stderr"
        },
        {
          "output_type": "stream",
          "text": [
            "(150, 150, 3)\n",
            "leather_moderate_047_new.jpg\n",
            "(150, 150, 3)\n",
            "leather_moderate_034_new.jpg\n"
          ],
          "name": "stdout"
        },
        {
          "output_type": "stream",
          "text": [
            "\r 15%|█▌        | 15/100 [00:03<00:19,  4.26it/s]"
          ],
          "name": "stderr"
        },
        {
          "output_type": "stream",
          "text": [
            "(150, 150, 3)\n",
            "leather_object_008_new.jpg\n",
            "(150, 150, 3)\n"
          ],
          "name": "stdout"
        },
        {
          "output_type": "stream",
          "text": [
            " 17%|█▋        | 17/100 [00:03<00:17,  4.86it/s]"
          ],
          "name": "stderr"
        },
        {
          "output_type": "stream",
          "text": [
            "leather_object_029_new.jpg\n",
            "(150, 150, 3)\n",
            "leather_object_028_new.jpg\n"
          ],
          "name": "stdout"
        },
        {
          "output_type": "stream",
          "text": [
            " 19%|█▉        | 19/100 [00:04<00:20,  4.04it/s]"
          ],
          "name": "stderr"
        },
        {
          "output_type": "stream",
          "text": [
            "(150, 150, 3)\n",
            "leather_object_047_new.jpg\n",
            "(150, 150, 3)\n",
            "leather_object_018_new.jpg\n"
          ],
          "name": "stdout"
        },
        {
          "output_type": "stream",
          "text": [
            " 21%|██        | 21/100 [00:04<00:16,  4.92it/s]"
          ],
          "name": "stderr"
        },
        {
          "output_type": "stream",
          "text": [
            "(150, 150, 3)\n",
            "leather_moderate_016_new.jpg\n",
            "(150, 150, 3)\n",
            "leather_object_003_new.jpg\n"
          ],
          "name": "stdout"
        },
        {
          "output_type": "stream",
          "text": [
            " 23%|██▎       | 23/100 [00:04<00:13,  5.52it/s]"
          ],
          "name": "stderr"
        },
        {
          "output_type": "stream",
          "text": [
            "(150, 150, 3)\n",
            "leather_object_006_new.jpg\n",
            "(150, 150, 3)\n",
            "leather_object_048_new.jpg\n"
          ],
          "name": "stdout"
        },
        {
          "output_type": "stream",
          "text": [
            "\r 24%|██▍       | 24/100 [00:05<00:14,  5.17it/s]"
          ],
          "name": "stderr"
        },
        {
          "output_type": "stream",
          "text": [
            "(150, 150, 3)\n",
            "leather_moderate_008_new.jpg\n"
          ],
          "name": "stdout"
        },
        {
          "output_type": "stream",
          "text": [
            " 26%|██▌       | 26/100 [00:05<00:14,  5.24it/s]"
          ],
          "name": "stderr"
        },
        {
          "output_type": "stream",
          "text": [
            "(150, 150, 3)\n",
            "leather_moderate_004_new.jpg\n",
            "(150, 150, 3)\n",
            "leather_object_038_new.jpg\n"
          ],
          "name": "stdout"
        },
        {
          "output_type": "stream",
          "text": [
            " 28%|██▊       | 28/100 [00:05<00:13,  5.25it/s]"
          ],
          "name": "stderr"
        },
        {
          "output_type": "stream",
          "text": [
            "(150, 150, 3)\n",
            "leather_moderate_015_new.jpg\n",
            "(150, 150, 3)\n",
            "leather_moderate_050_new.jpg\n"
          ],
          "name": "stdout"
        },
        {
          "output_type": "stream",
          "text": [
            "\r 29%|██▉       | 29/100 [00:06<00:13,  5.31it/s]"
          ],
          "name": "stderr"
        },
        {
          "output_type": "stream",
          "text": [
            "(150, 150, 3)\n",
            "leather_object_024_new.jpg\n"
          ],
          "name": "stdout"
        },
        {
          "output_type": "stream",
          "text": [
            " 31%|███       | 31/100 [00:06<00:16,  4.24it/s]"
          ],
          "name": "stderr"
        },
        {
          "output_type": "stream",
          "text": [
            "(150, 150, 3)\n",
            "leather_moderate_005_new.jpg\n",
            "(150, 150, 3)\n",
            "leather_moderate_021_new.jpg\n"
          ],
          "name": "stdout"
        },
        {
          "output_type": "stream",
          "text": [
            " 33%|███▎      | 33/100 [00:07<00:13,  4.87it/s]"
          ],
          "name": "stderr"
        },
        {
          "output_type": "stream",
          "text": [
            "(150, 150, 3)\n",
            "leather_moderate_046_new.jpg\n",
            "(150, 150, 3)\n",
            "leather_object_050_new.jpg\n"
          ],
          "name": "stdout"
        },
        {
          "output_type": "stream",
          "text": [
            "\r 34%|███▍      | 34/100 [00:07<00:12,  5.17it/s]"
          ],
          "name": "stderr"
        },
        {
          "output_type": "stream",
          "text": [
            "(150, 150, 3)\n",
            "leather_moderate_003_new.jpg\n"
          ],
          "name": "stdout"
        },
        {
          "output_type": "stream",
          "text": [
            " 36%|███▌      | 36/100 [00:07<00:12,  4.95it/s]"
          ],
          "name": "stderr"
        },
        {
          "output_type": "stream",
          "text": [
            "(150, 150, 3)\n",
            "leather_moderate_035_new.jpg\n",
            "(150, 150, 3)\n",
            "leather_moderate_026_new.jpg\n"
          ],
          "name": "stdout"
        },
        {
          "output_type": "stream",
          "text": [
            " 38%|███▊      | 38/100 [00:08<00:12,  4.85it/s]"
          ],
          "name": "stderr"
        },
        {
          "output_type": "stream",
          "text": [
            "(150, 150, 3)\n",
            "leather_moderate_029_new.jpg\n",
            "(150, 150, 3)\n",
            "leather_moderate_042_new.jpg\n"
          ],
          "name": "stdout"
        },
        {
          "output_type": "stream",
          "text": [
            " 40%|████      | 40/100 [00:08<00:11,  5.25it/s]"
          ],
          "name": "stderr"
        },
        {
          "output_type": "stream",
          "text": [
            "(150, 150, 3)\n",
            "leather_moderate_043_new.jpg\n",
            "(150, 150, 3)\n",
            "leather_moderate_039_new.jpg\n"
          ],
          "name": "stdout"
        },
        {
          "output_type": "stream",
          "text": [
            " 42%|████▏     | 42/100 [00:08<00:10,  5.41it/s]"
          ],
          "name": "stderr"
        },
        {
          "output_type": "stream",
          "text": [
            "(150, 150, 3)\n",
            "leather_moderate_044_new.jpg\n",
            "(150, 150, 3)\n",
            "leather_moderate_014_new.jpg\n"
          ],
          "name": "stdout"
        },
        {
          "output_type": "stream",
          "text": [
            " 44%|████▍     | 44/100 [00:09<00:09,  5.66it/s]"
          ],
          "name": "stderr"
        },
        {
          "output_type": "stream",
          "text": [
            "(150, 150, 3)\n",
            "leather_object_033_new.jpg\n",
            "(150, 150, 3)\n",
            "leather_object_014_new.jpg\n"
          ],
          "name": "stdout"
        },
        {
          "output_type": "stream",
          "text": [
            " 46%|████▌     | 46/100 [00:09<00:09,  5.52it/s]"
          ],
          "name": "stderr"
        },
        {
          "output_type": "stream",
          "text": [
            "(150, 150, 3)\n",
            "leather_object_032_new.jpg\n",
            "(150, 150, 3)\n",
            "leather_object_011_new.jpg\n"
          ],
          "name": "stdout"
        },
        {
          "output_type": "stream",
          "text": [
            " 48%|████▊     | 48/100 [00:09<00:10,  5.18it/s]"
          ],
          "name": "stderr"
        },
        {
          "output_type": "stream",
          "text": [
            "(150, 150, 3)\n",
            "leather_moderate_010_new.jpg\n",
            "(150, 150, 3)\n",
            "leather_object_027_new.jpg\n"
          ],
          "name": "stdout"
        },
        {
          "output_type": "stream",
          "text": [
            " 50%|█████     | 50/100 [00:10<00:10,  4.91it/s]"
          ],
          "name": "stderr"
        },
        {
          "output_type": "stream",
          "text": [
            "(150, 150, 3)\n",
            "leather_object_015_new.jpg\n",
            "(150, 150, 3)\n",
            "leather_moderate_036_new.jpg\n"
          ],
          "name": "stdout"
        },
        {
          "output_type": "stream",
          "text": [
            " 52%|█████▏    | 52/100 [00:10<00:08,  5.37it/s]"
          ],
          "name": "stderr"
        },
        {
          "output_type": "stream",
          "text": [
            "(150, 150, 3)\n",
            "leather_moderate_041_new.jpg\n",
            "(150, 150, 3)\n",
            "leather_object_030_new.jpg\n"
          ],
          "name": "stdout"
        },
        {
          "output_type": "stream",
          "text": [
            " 54%|█████▍    | 54/100 [00:11<00:07,  5.90it/s]"
          ],
          "name": "stderr"
        },
        {
          "output_type": "stream",
          "text": [
            "(150, 150, 3)\n",
            "leather_object_010_new.jpg\n",
            "(150, 150, 3)\n",
            "leather_moderate_002_new.jpg\n"
          ],
          "name": "stdout"
        },
        {
          "output_type": "stream",
          "text": [
            " 56%|█████▌    | 56/100 [00:11<00:07,  5.98it/s]"
          ],
          "name": "stderr"
        },
        {
          "output_type": "stream",
          "text": [
            "(150, 150, 3)\n",
            "leather_object_045_new.jpg\n",
            "(150, 150, 3)\n",
            "leather_object_026_new.jpg\n"
          ],
          "name": "stdout"
        },
        {
          "output_type": "stream",
          "text": [
            " 58%|█████▊    | 58/100 [00:11<00:07,  5.77it/s]"
          ],
          "name": "stderr"
        },
        {
          "output_type": "stream",
          "text": [
            "(150, 150, 3)\n",
            "leather_object_049_new.jpg\n",
            "(150, 150, 3)\n",
            "leather_moderate_031_new.jpg\n"
          ],
          "name": "stdout"
        },
        {
          "output_type": "stream",
          "text": [
            " 60%|██████    | 60/100 [00:12<00:07,  5.68it/s]"
          ],
          "name": "stderr"
        },
        {
          "output_type": "stream",
          "text": [
            "(150, 150, 3)\n",
            "leather_moderate_019_new.jpg\n",
            "(150, 150, 3)\n",
            "leather_object_019_new.jpg\n"
          ],
          "name": "stdout"
        },
        {
          "output_type": "stream",
          "text": [
            " 62%|██████▏   | 62/100 [00:12<00:06,  5.94it/s]"
          ],
          "name": "stderr"
        },
        {
          "output_type": "stream",
          "text": [
            "(150, 150, 3)\n",
            "leather_moderate_032_new.jpg\n",
            "(150, 150, 3)\n",
            "leather_moderate_023_new.jpg\n"
          ],
          "name": "stdout"
        },
        {
          "output_type": "stream",
          "text": [
            " 64%|██████▍   | 64/100 [00:12<00:06,  5.73it/s]"
          ],
          "name": "stderr"
        },
        {
          "output_type": "stream",
          "text": [
            "(150, 150, 3)\n",
            "leather_object_041_new.jpg\n",
            "(150, 150, 3)\n",
            "leather_object_012_new.jpg\n"
          ],
          "name": "stdout"
        },
        {
          "output_type": "stream",
          "text": [
            " 66%|██████▌   | 66/100 [00:13<00:07,  4.84it/s]"
          ],
          "name": "stderr"
        },
        {
          "output_type": "stream",
          "text": [
            "(150, 150, 3)\n",
            "leather_moderate_038_new.jpg\n",
            "(150, 150, 3)\n",
            "leather_object_007_new.jpg\n"
          ],
          "name": "stdout"
        },
        {
          "output_type": "stream",
          "text": [
            "\r 67%|██████▋   | 67/100 [00:13<00:06,  5.11it/s]"
          ],
          "name": "stderr"
        },
        {
          "output_type": "stream",
          "text": [
            "(150, 150, 3)\n",
            "leather_moderate_007_new.jpg\n"
          ],
          "name": "stdout"
        },
        {
          "output_type": "stream",
          "text": [
            " 69%|██████▉   | 69/100 [00:13<00:06,  4.74it/s]"
          ],
          "name": "stderr"
        },
        {
          "output_type": "stream",
          "text": [
            "(150, 150, 3)\n",
            "leather_moderate_020_new.jpg\n",
            "(150, 150, 3)\n",
            "leather_moderate_045_new.jpg\n"
          ],
          "name": "stdout"
        },
        {
          "output_type": "stream",
          "text": [
            " 71%|███████   | 71/100 [00:14<00:05,  5.34it/s]"
          ],
          "name": "stderr"
        },
        {
          "output_type": "stream",
          "text": [
            "(150, 150, 3)\n",
            "leather_object_043_new.jpg\n",
            "(150, 150, 3)\n",
            "leather_moderate_017_new.jpg\n"
          ],
          "name": "stdout"
        },
        {
          "output_type": "stream",
          "text": [
            " 73%|███████▎  | 73/100 [00:14<00:05,  5.01it/s]"
          ],
          "name": "stderr"
        },
        {
          "output_type": "stream",
          "text": [
            "(150, 150, 3)\n",
            "leather_moderate_028_new.jpg\n",
            "(150, 150, 3)\n",
            "leather_object_005_new.jpg\n"
          ],
          "name": "stdout"
        },
        {
          "output_type": "stream",
          "text": [
            " 75%|███████▌  | 75/100 [00:15<00:05,  4.31it/s]"
          ],
          "name": "stderr"
        },
        {
          "output_type": "stream",
          "text": [
            "(150, 150, 3)\n",
            "leather_object_034_new.jpg\n",
            "(150, 150, 3)\n",
            "leather_object_025_new.jpg\n"
          ],
          "name": "stdout"
        },
        {
          "output_type": "stream",
          "text": [
            "\r 76%|███████▌  | 76/100 [00:15<00:05,  4.65it/s]"
          ],
          "name": "stderr"
        },
        {
          "output_type": "stream",
          "text": [
            "(150, 150, 3)\n",
            "leather_moderate_012_new.jpg\n",
            "(150, 150, 3)\n"
          ],
          "name": "stdout"
        },
        {
          "output_type": "stream",
          "text": [
            " 78%|███████▊  | 78/100 [00:15<00:04,  5.06it/s]"
          ],
          "name": "stderr"
        },
        {
          "output_type": "stream",
          "text": [
            "leather_moderate_048_new.jpg\n",
            "(150, 150, 3)\n",
            "leather_object_037_new.jpg\n"
          ],
          "name": "stdout"
        },
        {
          "output_type": "stream",
          "text": [
            " 80%|████████  | 80/100 [00:16<00:03,  5.40it/s]"
          ],
          "name": "stderr"
        },
        {
          "output_type": "stream",
          "text": [
            "(150, 150, 3)\n",
            "leather_moderate_030_new.jpg\n",
            "(150, 150, 3)\n",
            "leather_object_001_new.jpg\n"
          ],
          "name": "stdout"
        },
        {
          "output_type": "stream",
          "text": [
            " 82%|████████▏ | 82/100 [00:16<00:03,  5.50it/s]"
          ],
          "name": "stderr"
        },
        {
          "output_type": "stream",
          "text": [
            "(150, 150, 3)\n",
            "leather_moderate_037_new.jpg\n",
            "(150, 150, 3)\n",
            "leather_object_016_new.jpg\n"
          ],
          "name": "stdout"
        },
        {
          "output_type": "stream",
          "text": [
            " 84%|████████▍ | 84/100 [00:16<00:02,  5.75it/s]"
          ],
          "name": "stderr"
        },
        {
          "output_type": "stream",
          "text": [
            "(150, 150, 3)\n",
            "leather_object_020_new.jpg\n",
            "(150, 150, 3)\n",
            "leather_moderate_011_new.jpg\n"
          ],
          "name": "stdout"
        },
        {
          "output_type": "stream",
          "text": [
            " 86%|████████▌ | 86/100 [00:17<00:02,  4.91it/s]"
          ],
          "name": "stderr"
        },
        {
          "output_type": "stream",
          "text": [
            "(150, 150, 3)\n",
            "leather_moderate_018_new.jpg\n",
            "(150, 150, 3)\n",
            "leather_object_023_new.jpg\n"
          ],
          "name": "stdout"
        },
        {
          "output_type": "stream",
          "text": [
            "\r 87%|████████▋ | 87/100 [00:17<00:03,  4.20it/s]"
          ],
          "name": "stderr"
        },
        {
          "output_type": "stream",
          "text": [
            "(150, 150, 3)\n",
            "leather_object_039_new.jpg\n"
          ],
          "name": "stdout"
        },
        {
          "output_type": "stream",
          "text": [
            " 89%|████████▉ | 89/100 [00:18<00:02,  4.21it/s]"
          ],
          "name": "stderr"
        },
        {
          "output_type": "stream",
          "text": [
            "(150, 150, 3)\n",
            "leather_moderate_006_new.jpg\n",
            "(150, 150, 3)\n",
            "leather_object_017_new.jpg\n"
          ],
          "name": "stdout"
        },
        {
          "output_type": "stream",
          "text": [
            "\r 90%|█████████ | 90/100 [00:18<00:02,  4.64it/s]"
          ],
          "name": "stderr"
        },
        {
          "output_type": "stream",
          "text": [
            "(150, 150, 3)\n",
            "leather_object_022_new.jpg\n"
          ],
          "name": "stdout"
        },
        {
          "output_type": "stream",
          "text": [
            " 92%|█████████▏| 92/100 [00:18<00:01,  4.87it/s]"
          ],
          "name": "stderr"
        },
        {
          "output_type": "stream",
          "text": [
            "(150, 150, 3)\n",
            "leather_moderate_033_new.jpg\n",
            "(150, 150, 3)\n",
            "leather_moderate_024_new.jpg\n"
          ],
          "name": "stdout"
        },
        {
          "output_type": "stream",
          "text": [
            " 94%|█████████▍| 94/100 [00:19<00:01,  5.16it/s]"
          ],
          "name": "stderr"
        },
        {
          "output_type": "stream",
          "text": [
            "(150, 150, 3)\n",
            "leather_moderate_040_new.jpg\n",
            "(150, 150, 3)\n",
            "leather_moderate_025_new.jpg\n"
          ],
          "name": "stdout"
        },
        {
          "output_type": "stream",
          "text": [
            " 96%|█████████▌| 96/100 [00:19<00:00,  5.62it/s]"
          ],
          "name": "stderr"
        },
        {
          "output_type": "stream",
          "text": [
            "(150, 150, 3)\n",
            "leather_object_035_new.jpg\n",
            "(150, 150, 3)\n",
            "leather_moderate_022_new.jpg\n"
          ],
          "name": "stdout"
        },
        {
          "output_type": "stream",
          "text": [
            " 98%|█████████▊| 98/100 [00:19<00:00,  5.66it/s]"
          ],
          "name": "stderr"
        },
        {
          "output_type": "stream",
          "text": [
            "(150, 150, 3)\n",
            "leather_object_004_new.jpg\n",
            "(150, 150, 3)\n",
            "leather_object_013_new.jpg\n"
          ],
          "name": "stdout"
        },
        {
          "output_type": "stream",
          "text": [
            "100%|██████████| 100/100 [00:20<00:00,  5.85it/s]\n",
            "  0%|          | 0/100 [00:00<?, ?it/s]"
          ],
          "name": "stderr"
        },
        {
          "output_type": "stream",
          "text": [
            "(150, 150, 3)\n",
            "leather_object_044_new.jpg\n",
            "(150, 150, 3)\n",
            "wood_moderate_017_new.jpg\n"
          ],
          "name": "stdout"
        },
        {
          "output_type": "stream",
          "text": [
            "  2%|▏         | 2/100 [00:00<00:16,  5.93it/s]"
          ],
          "name": "stderr"
        },
        {
          "output_type": "stream",
          "text": [
            "(150, 150, 3)\n",
            "wood_object_023_new.jpg\n",
            "(150, 150, 3)\n",
            "wood_moderate_003_new.jpg\n"
          ],
          "name": "stdout"
        },
        {
          "output_type": "stream",
          "text": [
            "\r  3%|▎         | 3/100 [00:00<00:19,  4.99it/s]"
          ],
          "name": "stderr"
        },
        {
          "output_type": "stream",
          "text": [
            "(150, 150, 3)\n",
            "wood_moderate_013_new.jpg\n"
          ],
          "name": "stdout"
        },
        {
          "output_type": "stream",
          "text": [
            "\r  4%|▍         | 4/100 [00:00<00:19,  4.92it/s]"
          ],
          "name": "stderr"
        },
        {
          "output_type": "stream",
          "text": [
            "(150, 150, 3)\n",
            "wood_object_003_new.jpg\n"
          ],
          "name": "stdout"
        },
        {
          "output_type": "stream",
          "text": [
            "\r  5%|▌         | 5/100 [00:01<00:19,  4.79it/s]"
          ],
          "name": "stderr"
        },
        {
          "output_type": "stream",
          "text": [
            "(150, 150, 3)\n",
            "wood_moderate_006_new.jpg\n"
          ],
          "name": "stdout"
        },
        {
          "output_type": "stream",
          "text": [
            "\r  6%|▌         | 6/100 [00:01<00:22,  4.22it/s]"
          ],
          "name": "stderr"
        },
        {
          "output_type": "stream",
          "text": [
            "(150, 150, 3)\n",
            "wood_moderate_042_new.jpg\n"
          ],
          "name": "stdout"
        },
        {
          "output_type": "stream",
          "text": [
            "  8%|▊         | 8/100 [00:01<00:19,  4.72it/s]"
          ],
          "name": "stderr"
        },
        {
          "output_type": "stream",
          "text": [
            "(150, 150, 3)\n",
            "wood_moderate_005_new.jpg\n",
            "(150, 150, 3)\n",
            "wood_moderate_044_new.jpg\n"
          ],
          "name": "stdout"
        },
        {
          "output_type": "stream",
          "text": [
            " 10%|█         | 10/100 [00:02<00:16,  5.30it/s]"
          ],
          "name": "stderr"
        },
        {
          "output_type": "stream",
          "text": [
            "(150, 150, 3)\n",
            "wood_moderate_027_new.jpg\n",
            "(150, 150, 3)\n",
            "wood_object_028_new.jpg\n"
          ],
          "name": "stdout"
        },
        {
          "output_type": "stream",
          "text": [
            " 12%|█▏        | 12/100 [00:02<00:15,  5.70it/s]"
          ],
          "name": "stderr"
        },
        {
          "output_type": "stream",
          "text": [
            "(150, 150, 3)\n",
            "wood_moderate_033_new.jpg\n",
            "(150, 150, 3)\n",
            "wood_moderate_041_new.jpg\n"
          ],
          "name": "stdout"
        },
        {
          "output_type": "stream",
          "text": [
            " 14%|█▍        | 14/100 [00:02<00:19,  4.36it/s]"
          ],
          "name": "stderr"
        },
        {
          "output_type": "stream",
          "text": [
            "(150, 150, 3)\n",
            "wood_object_042_new.jpg\n",
            "(150, 150, 3)\n",
            "wood_moderate_024_new.jpg\n"
          ],
          "name": "stdout"
        },
        {
          "output_type": "stream",
          "text": [
            "\r 15%|█▌        | 15/100 [00:03<00:18,  4.69it/s]"
          ],
          "name": "stderr"
        },
        {
          "output_type": "stream",
          "text": [
            "(150, 150, 3)\n",
            "wood_moderate_048_new.jpg\n",
            "(150, 150, 3)\n"
          ],
          "name": "stdout"
        },
        {
          "output_type": "stream",
          "text": [
            " 17%|█▋        | 17/100 [00:03<00:16,  5.07it/s]"
          ],
          "name": "stderr"
        },
        {
          "output_type": "stream",
          "text": [
            "wood_moderate_026_new.jpg\n",
            "(150, 150, 3)\n",
            "wood_object_046_new.jpg\n"
          ],
          "name": "stdout"
        },
        {
          "output_type": "stream",
          "text": [
            " 19%|█▉        | 19/100 [00:03<00:14,  5.72it/s]"
          ],
          "name": "stderr"
        },
        {
          "output_type": "stream",
          "text": [
            "(150, 150, 3)\n",
            "wood_object_047_new.jpg\n",
            "(150, 150, 3)\n",
            "wood_object_034_new.jpg\n"
          ],
          "name": "stdout"
        },
        {
          "output_type": "stream",
          "text": [
            " 21%|██        | 21/100 [00:04<00:13,  5.75it/s]"
          ],
          "name": "stderr"
        },
        {
          "output_type": "stream",
          "text": [
            "(150, 150, 3)\n",
            "wood_object_026_new.jpg\n",
            "(150, 150, 3)\n",
            "wood_moderate_047_new.jpg\n"
          ],
          "name": "stdout"
        },
        {
          "output_type": "stream",
          "text": [
            "\r 22%|██▏       | 22/100 [00:04<00:12,  6.05it/s]"
          ],
          "name": "stderr"
        },
        {
          "output_type": "stream",
          "text": [
            "(150, 150, 3)\n",
            "wood_object_035_new.jpg\n"
          ],
          "name": "stdout"
        },
        {
          "output_type": "stream",
          "text": [
            " 24%|██▍       | 24/100 [00:04<00:15,  4.80it/s]"
          ],
          "name": "stderr"
        },
        {
          "output_type": "stream",
          "text": [
            "(150, 150, 3)\n",
            "wood_moderate_023_new.jpg\n",
            "(150, 150, 3)\n",
            "wood_object_006_new.jpg\n"
          ],
          "name": "stdout"
        },
        {
          "output_type": "stream",
          "text": [
            "\r 25%|██▌       | 25/100 [00:05<00:15,  4.96it/s]"
          ],
          "name": "stderr"
        },
        {
          "output_type": "stream",
          "text": [
            "(150, 150, 3)\n",
            "wood_object_009_new.jpg\n"
          ],
          "name": "stdout"
        },
        {
          "output_type": "stream",
          "text": [
            " 27%|██▋       | 27/100 [00:05<00:17,  4.28it/s]"
          ],
          "name": "stderr"
        },
        {
          "output_type": "stream",
          "text": [
            "(150, 150, 3)\n",
            "wood_moderate_032_new.jpg\n",
            "(150, 150, 3)\n",
            "wood_moderate_038_new.jpg\n"
          ],
          "name": "stdout"
        },
        {
          "output_type": "stream",
          "text": [
            " 29%|██▉       | 29/100 [00:05<00:14,  4.92it/s]"
          ],
          "name": "stderr"
        },
        {
          "output_type": "stream",
          "text": [
            "(150, 150, 3)\n",
            "wood_object_007_new.jpg\n",
            "(150, 150, 3)\n",
            "wood_object_030_new.jpg\n"
          ],
          "name": "stdout"
        },
        {
          "output_type": "stream",
          "text": [
            " 31%|███       | 31/100 [00:06<00:12,  5.45it/s]"
          ],
          "name": "stderr"
        },
        {
          "output_type": "stream",
          "text": [
            "(150, 150, 3)\n",
            "wood_object_011_new.jpg\n",
            "(150, 150, 3)\n",
            "wood_moderate_050_new.jpg\n"
          ],
          "name": "stdout"
        },
        {
          "output_type": "stream",
          "text": [
            " 33%|███▎      | 33/100 [00:06<00:13,  5.01it/s]"
          ],
          "name": "stderr"
        },
        {
          "output_type": "stream",
          "text": [
            "(150, 150, 3)\n",
            "wood_object_027_new.jpg\n",
            "(150, 150, 3)\n",
            "wood_object_037_new.jpg\n"
          ],
          "name": "stdout"
        },
        {
          "output_type": "stream",
          "text": [
            " 35%|███▌      | 35/100 [00:07<00:12,  5.37it/s]"
          ],
          "name": "stderr"
        },
        {
          "output_type": "stream",
          "text": [
            "(150, 150, 3)\n",
            "wood_object_024_new.jpg\n",
            "(150, 150, 3)\n",
            "wood_moderate_031_new.jpg\n"
          ],
          "name": "stdout"
        },
        {
          "output_type": "stream",
          "text": [
            " 37%|███▋      | 37/100 [00:07<00:14,  4.36it/s]"
          ],
          "name": "stderr"
        },
        {
          "output_type": "stream",
          "text": [
            "(150, 150, 3)\n",
            "wood_moderate_040_new.jpg\n",
            "(150, 150, 3)\n",
            "wood_object_017_new.jpg\n"
          ],
          "name": "stdout"
        },
        {
          "output_type": "stream",
          "text": [
            "\r 38%|███▊      | 38/100 [00:08<00:17,  3.56it/s]"
          ],
          "name": "stderr"
        },
        {
          "output_type": "stream",
          "text": [
            "(150, 150, 3)\n",
            "wood_object_010_new.jpg\n"
          ],
          "name": "stdout"
        },
        {
          "output_type": "stream",
          "text": [
            " 40%|████      | 40/100 [00:08<00:16,  3.69it/s]"
          ],
          "name": "stderr"
        },
        {
          "output_type": "stream",
          "text": [
            "(150, 150, 3)\n",
            "wood_moderate_036_new.jpg\n",
            "(150, 150, 3)\n",
            "wood_object_004_new.jpg\n"
          ],
          "name": "stdout"
        },
        {
          "output_type": "stream",
          "text": [
            " 42%|████▏     | 42/100 [00:08<00:13,  4.44it/s]"
          ],
          "name": "stderr"
        },
        {
          "output_type": "stream",
          "text": [
            "(150, 150, 3)\n",
            "wood_moderate_004_new.jpg\n",
            "(150, 150, 3)\n",
            "wood_object_038_new.jpg\n"
          ],
          "name": "stdout"
        },
        {
          "output_type": "stream",
          "text": [
            " 44%|████▍     | 44/100 [00:09<00:11,  4.86it/s]"
          ],
          "name": "stderr"
        },
        {
          "output_type": "stream",
          "text": [
            "(150, 150, 3)\n",
            "wood_moderate_020_new.jpg\n",
            "(150, 150, 3)\n",
            "wood_object_048_new.jpg\n"
          ],
          "name": "stdout"
        },
        {
          "output_type": "stream",
          "text": [
            " 46%|████▌     | 46/100 [00:09<00:09,  5.60it/s]"
          ],
          "name": "stderr"
        },
        {
          "output_type": "stream",
          "text": [
            "(150, 150, 3)\n",
            "wood_moderate_030_new.jpg\n",
            "(150, 150, 3)\n",
            "wood_moderate_025_new.jpg\n"
          ],
          "name": "stdout"
        },
        {
          "output_type": "stream",
          "text": [
            " 48%|████▊     | 48/100 [00:10<00:09,  5.74it/s]"
          ],
          "name": "stderr"
        },
        {
          "output_type": "stream",
          "text": [
            "(150, 150, 3)\n",
            "wood_moderate_049_new.jpg\n",
            "(150, 150, 3)\n",
            "wood_object_022_new.jpg\n"
          ],
          "name": "stdout"
        },
        {
          "output_type": "stream",
          "text": [
            " 50%|█████     | 50/100 [00:10<00:08,  5.62it/s]"
          ],
          "name": "stderr"
        },
        {
          "output_type": "stream",
          "text": [
            "(150, 150, 3)\n",
            "wood_object_044_new.jpg\n",
            "(150, 150, 3)\n",
            "wood_moderate_018_new.jpg\n"
          ],
          "name": "stdout"
        },
        {
          "output_type": "stream",
          "text": [
            " 52%|█████▏    | 52/100 [00:10<00:08,  5.98it/s]"
          ],
          "name": "stderr"
        },
        {
          "output_type": "stream",
          "text": [
            "(150, 150, 3)\n",
            "wood_moderate_015_new.jpg\n",
            "(150, 150, 3)\n",
            "wood_moderate_045_new.jpg\n"
          ],
          "name": "stdout"
        },
        {
          "output_type": "stream",
          "text": [
            "\r 53%|█████▎    | 53/100 [00:10<00:07,  5.93it/s]"
          ],
          "name": "stderr"
        },
        {
          "output_type": "stream",
          "text": [
            "(150, 150, 3)\n",
            "wood_moderate_012_new.jpg\n"
          ],
          "name": "stdout"
        },
        {
          "output_type": "stream",
          "text": [
            " 55%|█████▌    | 55/100 [00:11<00:10,  4.36it/s]"
          ],
          "name": "stderr"
        },
        {
          "output_type": "stream",
          "text": [
            "(150, 150, 3)\n",
            "wood_moderate_008_new.jpg\n",
            "(150, 150, 3)\n",
            "wood_moderate_021_new.jpg\n"
          ],
          "name": "stdout"
        },
        {
          "output_type": "stream",
          "text": [
            " 57%|█████▋    | 57/100 [00:11<00:08,  4.95it/s]"
          ],
          "name": "stderr"
        },
        {
          "output_type": "stream",
          "text": [
            "(150, 150, 3)\n",
            "wood_object_040_new.jpg\n",
            "(150, 150, 3)\n",
            "wood_object_001_new.jpg\n"
          ],
          "name": "stdout"
        },
        {
          "output_type": "stream",
          "text": [
            " 59%|█████▉    | 59/100 [00:12<00:07,  5.20it/s]"
          ],
          "name": "stderr"
        },
        {
          "output_type": "stream",
          "text": [
            "(150, 150, 3)\n",
            "wood_object_005_new.jpg\n",
            "(150, 150, 3)\n",
            "wood_object_032_new.jpg\n"
          ],
          "name": "stdout"
        },
        {
          "output_type": "stream",
          "text": [
            "\r 60%|██████    | 60/100 [00:12<00:10,  3.82it/s]"
          ],
          "name": "stderr"
        },
        {
          "output_type": "stream",
          "text": [
            "(150, 150, 3)\n",
            "wood_object_018_new.jpg\n"
          ],
          "name": "stdout"
        },
        {
          "output_type": "stream",
          "text": [
            "\r 61%|██████    | 61/100 [00:12<00:11,  3.40it/s]"
          ],
          "name": "stderr"
        },
        {
          "output_type": "stream",
          "text": [
            "(150, 150, 3)\n",
            "wood_moderate_028_new.jpg\n"
          ],
          "name": "stdout"
        },
        {
          "output_type": "stream",
          "text": [
            "\r 62%|██████▏   | 62/100 [00:13<00:10,  3.61it/s]"
          ],
          "name": "stderr"
        },
        {
          "output_type": "stream",
          "text": [
            "(150, 150, 3)\n",
            "wood_moderate_037_new.jpg\n"
          ],
          "name": "stdout"
        },
        {
          "output_type": "stream",
          "text": [
            "\r 63%|██████▎   | 63/100 [00:13<00:11,  3.30it/s]"
          ],
          "name": "stderr"
        },
        {
          "output_type": "stream",
          "text": [
            "(150, 150, 3)\n",
            "wood_moderate_011_new.jpg\n"
          ],
          "name": "stdout"
        },
        {
          "output_type": "stream",
          "text": [
            " 65%|██████▌   | 65/100 [00:14<00:09,  3.52it/s]"
          ],
          "name": "stderr"
        },
        {
          "output_type": "stream",
          "text": [
            "(150, 150, 3)\n",
            "wood_object_002_new.jpg\n",
            "(150, 150, 3)\n",
            "wood_object_029_new.jpg\n"
          ],
          "name": "stdout"
        },
        {
          "output_type": "stream",
          "text": [
            "\r 66%|██████▌   | 66/100 [00:14<00:08,  4.00it/s]"
          ],
          "name": "stderr"
        },
        {
          "output_type": "stream",
          "text": [
            "(150, 150, 3)\n",
            "wood_object_049_new.jpg\n"
          ],
          "name": "stdout"
        },
        {
          "output_type": "stream",
          "text": [
            "\r 67%|██████▋   | 67/100 [00:14<00:09,  3.66it/s]"
          ],
          "name": "stderr"
        },
        {
          "output_type": "stream",
          "text": [
            "(150, 150, 3)\n",
            "wood_moderate_010_new.jpg\n"
          ],
          "name": "stdout"
        },
        {
          "output_type": "stream",
          "text": [
            " 69%|██████▉   | 69/100 [00:15<00:07,  4.10it/s]"
          ],
          "name": "stderr"
        },
        {
          "output_type": "stream",
          "text": [
            "(150, 150, 3)\n",
            "wood_moderate_035_new.jpg\n",
            "(150, 150, 3)\n",
            "wood_object_016_new.jpg\n"
          ],
          "name": "stdout"
        },
        {
          "output_type": "stream",
          "text": [
            " 71%|███████   | 71/100 [00:15<00:05,  4.90it/s]"
          ],
          "name": "stderr"
        },
        {
          "output_type": "stream",
          "text": [
            "(150, 150, 3)\n",
            "wood_moderate_001_new.jpg\n",
            "(150, 150, 3)\n",
            "wood_object_033_new.jpg\n"
          ],
          "name": "stdout"
        },
        {
          "output_type": "stream",
          "text": [
            " 73%|███████▎  | 73/100 [00:15<00:05,  5.25it/s]"
          ],
          "name": "stderr"
        },
        {
          "output_type": "stream",
          "text": [
            "(150, 150, 3)\n",
            "wood_moderate_019_new.jpg\n",
            "(150, 150, 3)\n",
            "wood_object_025_new.jpg\n"
          ],
          "name": "stdout"
        },
        {
          "output_type": "stream",
          "text": [
            " 75%|███████▌  | 75/100 [00:16<00:05,  4.51it/s]"
          ],
          "name": "stderr"
        },
        {
          "output_type": "stream",
          "text": [
            "(150, 150, 3)\n",
            "wood_object_013_new.jpg\n",
            "(150, 150, 3)\n",
            "wood_object_020_new.jpg\n"
          ],
          "name": "stdout"
        },
        {
          "output_type": "stream",
          "text": [
            " 77%|███████▋  | 77/100 [00:16<00:04,  4.87it/s]"
          ],
          "name": "stderr"
        },
        {
          "output_type": "stream",
          "text": [
            "(150, 150, 3)\n",
            "wood_object_019_new.jpg\n",
            "(150, 150, 3)\n",
            "wood_moderate_039_new.jpg\n"
          ],
          "name": "stdout"
        },
        {
          "output_type": "stream",
          "text": [
            " 79%|███████▉  | 79/100 [00:17<00:03,  5.29it/s]"
          ],
          "name": "stderr"
        },
        {
          "output_type": "stream",
          "text": [
            "(150, 150, 3)\n",
            "wood_moderate_009_new.jpg\n",
            "(150, 150, 3)\n",
            "wood_moderate_029_new.jpg\n"
          ],
          "name": "stdout"
        },
        {
          "output_type": "stream",
          "text": [
            " 81%|████████  | 81/100 [00:17<00:03,  5.60it/s]"
          ],
          "name": "stderr"
        },
        {
          "output_type": "stream",
          "text": [
            "(150, 150, 3)\n",
            "wood_object_045_new.jpg\n",
            "(150, 150, 3)\n",
            "wood_moderate_034_new.jpg\n"
          ],
          "name": "stdout"
        },
        {
          "output_type": "stream",
          "text": [
            " 83%|████████▎ | 83/100 [00:17<00:02,  5.73it/s]"
          ],
          "name": "stderr"
        },
        {
          "output_type": "stream",
          "text": [
            "(150, 150, 3)\n",
            "wood_object_015_new.jpg\n",
            "(150, 150, 3)\n",
            "wood_object_031_new.jpg\n"
          ],
          "name": "stdout"
        },
        {
          "output_type": "stream",
          "text": [
            "\r 84%|████████▍ | 84/100 [00:17<00:02,  5.78it/s]"
          ],
          "name": "stderr"
        },
        {
          "output_type": "stream",
          "text": [
            "(150, 150, 3)\n",
            "wood_object_039_new.jpg\n"
          ],
          "name": "stdout"
        },
        {
          "output_type": "stream",
          "text": [
            " 86%|████████▌ | 86/100 [00:18<00:02,  5.40it/s]"
          ],
          "name": "stderr"
        },
        {
          "output_type": "stream",
          "text": [
            "(150, 150, 3)\n",
            "wood_object_012_new.jpg\n",
            "(150, 150, 3)\n",
            "wood_moderate_016_new.jpg\n"
          ],
          "name": "stdout"
        },
        {
          "output_type": "stream",
          "text": [
            "\r 87%|████████▋ | 87/100 [00:18<00:02,  5.68it/s]"
          ],
          "name": "stderr"
        },
        {
          "output_type": "stream",
          "text": [
            "(150, 150, 3)\n",
            "wood_object_050_new.jpg\n"
          ],
          "name": "stdout"
        },
        {
          "output_type": "stream",
          "text": [
            " 89%|████████▉ | 89/100 [00:18<00:02,  5.24it/s]"
          ],
          "name": "stderr"
        },
        {
          "output_type": "stream",
          "text": [
            "(150, 150, 3)\n",
            "wood_moderate_014_new.jpg\n",
            "(150, 150, 3)\n",
            "wood_object_014_new.jpg\n"
          ],
          "name": "stdout"
        },
        {
          "output_type": "stream",
          "text": [
            "\r 90%|█████████ | 90/100 [00:19<00:01,  5.35it/s]"
          ],
          "name": "stderr"
        },
        {
          "output_type": "stream",
          "text": [
            "(150, 150, 3)\n",
            "wood_moderate_046_new.jpg\n",
            "(150, 150, 3)\n"
          ],
          "name": "stdout"
        },
        {
          "output_type": "stream",
          "text": [
            " 92%|█████████▏| 92/100 [00:19<00:01,  5.39it/s]"
          ],
          "name": "stderr"
        },
        {
          "output_type": "stream",
          "text": [
            "wood_object_036_new.jpg\n",
            "(150, 150, 3)\n",
            "wood_object_008_new.jpg\n"
          ],
          "name": "stdout"
        },
        {
          "output_type": "stream",
          "text": [
            "\r 93%|█████████▎| 93/100 [00:19<00:01,  5.41it/s]"
          ],
          "name": "stderr"
        },
        {
          "output_type": "stream",
          "text": [
            "(150, 150, 3)\n",
            "wood_object_043_new.jpg\n"
          ],
          "name": "stdout"
        },
        {
          "output_type": "stream",
          "text": [
            " 95%|█████████▌| 95/100 [00:20<00:00,  5.30it/s]"
          ],
          "name": "stderr"
        },
        {
          "output_type": "stream",
          "text": [
            "(150, 150, 3)\n",
            "wood_object_021_new.jpg\n",
            "(150, 150, 3)\n",
            "wood_moderate_022_new.jpg\n"
          ],
          "name": "stdout"
        },
        {
          "output_type": "stream",
          "text": [
            " 97%|█████████▋| 97/100 [00:20<00:00,  5.16it/s]"
          ],
          "name": "stderr"
        },
        {
          "output_type": "stream",
          "text": [
            "(150, 150, 3)\n",
            "wood_moderate_007_new.jpg\n",
            "(150, 150, 3)\n",
            "wood_moderate_002_new.jpg"
          ],
          "name": "stdout"
        },
        {
          "output_type": "stream",
          "text": [
            " 99%|█████████▉| 99/100 [00:20<00:00,  5.57it/s]"
          ],
          "name": "stderr"
        },
        {
          "output_type": "stream",
          "text": [
            "\n",
            "(150, 150, 3)\n",
            "wood_object_041_new.jpg\n",
            "(150, 150, 3)\n",
            "wood_moderate_043_new.jpg\n"
          ],
          "name": "stdout"
        },
        {
          "output_type": "stream",
          "text": [
            "100%|██████████| 100/100 [00:20<00:00,  5.32it/s]\n",
            "  1%|          | 1/100 [00:00<00:15,  6.24it/s]"
          ],
          "name": "stderr"
        },
        {
          "output_type": "stream",
          "text": [
            "(150, 150, 3)\n",
            "glass_moderate_041_new.jpg\n",
            "(150, 150, 3)\n",
            "glass_moderate_009_new.jpg\n"
          ],
          "name": "stdout"
        },
        {
          "output_type": "stream",
          "text": [
            "  3%|▎         | 3/100 [00:00<00:15,  6.29it/s]"
          ],
          "name": "stderr"
        },
        {
          "output_type": "stream",
          "text": [
            "(150, 150, 3)\n",
            "glass_object_003_new.jpg\n",
            "(150, 150, 3)\n",
            "glass_object_012_new.jpg\n"
          ],
          "name": "stdout"
        },
        {
          "output_type": "stream",
          "text": [
            "  5%|▌         | 5/100 [00:00<00:16,  5.81it/s]"
          ],
          "name": "stderr"
        },
        {
          "output_type": "stream",
          "text": [
            "(150, 150, 3)\n",
            "glass_object_033_new.jpg\n",
            "(150, 150, 3)\n",
            "glass_moderate_014_new.jpg\n"
          ],
          "name": "stdout"
        },
        {
          "output_type": "stream",
          "text": [
            "  7%|▋         | 7/100 [00:01<00:16,  5.81it/s]"
          ],
          "name": "stderr"
        },
        {
          "output_type": "stream",
          "text": [
            "(150, 150, 3)\n",
            "glass_moderate_029_new.jpg\n",
            "(150, 150, 3)\n",
            "glass_moderate_049_new.jpg\n"
          ],
          "name": "stdout"
        },
        {
          "output_type": "stream",
          "text": [
            "\r  8%|▊         | 8/100 [00:01<00:15,  5.84it/s]"
          ],
          "name": "stderr"
        },
        {
          "output_type": "stream",
          "text": [
            "(150, 150, 3)\n",
            "glass_object_041_new.jpg\n"
          ],
          "name": "stdout"
        },
        {
          "output_type": "stream",
          "text": [
            " 10%|█         | 10/100 [00:01<00:19,  4.73it/s]"
          ],
          "name": "stderr"
        },
        {
          "output_type": "stream",
          "text": [
            "(150, 150, 3)\n",
            "glass_moderate_006_new.jpg\n",
            "(150, 150, 3)\n",
            "glass_moderate_038_new.jpg\n"
          ],
          "name": "stdout"
        },
        {
          "output_type": "stream",
          "text": [
            " 12%|█▏        | 12/100 [00:02<00:17,  4.99it/s]"
          ],
          "name": "stderr"
        },
        {
          "output_type": "stream",
          "text": [
            "(150, 150, 3)\n",
            "glass_moderate_050_new.jpg\n",
            "(150, 150, 3)\n",
            "glass_object_021_new.jpg\n"
          ],
          "name": "stdout"
        },
        {
          "output_type": "stream",
          "text": [
            " 14%|█▍        | 14/100 [00:02<00:15,  5.45it/s]"
          ],
          "name": "stderr"
        },
        {
          "output_type": "stream",
          "text": [
            "(150, 150, 3)\n",
            "glass_object_028_new.jpg\n",
            "(150, 150, 3)\n",
            "glass_moderate_044_new.jpg\n"
          ],
          "name": "stdout"
        },
        {
          "output_type": "stream",
          "text": [
            " 16%|█▌        | 16/100 [00:03<00:18,  4.56it/s]"
          ],
          "name": "stderr"
        },
        {
          "output_type": "stream",
          "text": [
            "(150, 150, 3)\n",
            "glass_object_036_new.jpg\n",
            "(150, 150, 3)\n",
            "glass_object_045_new.jpg\n"
          ],
          "name": "stdout"
        },
        {
          "output_type": "stream",
          "text": [
            " 18%|█▊        | 18/100 [00:03<00:17,  4.64it/s]"
          ],
          "name": "stderr"
        },
        {
          "output_type": "stream",
          "text": [
            "(150, 150, 3)\n",
            "glass_moderate_002_new.jpg\n",
            "(150, 150, 3)\n",
            "glass_moderate_007_new.jpg\n"
          ],
          "name": "stdout"
        },
        {
          "output_type": "stream",
          "text": [
            " 20%|██        | 20/100 [00:03<00:15,  5.01it/s]"
          ],
          "name": "stderr"
        },
        {
          "output_type": "stream",
          "text": [
            "(150, 150, 3)\n",
            "glass_moderate_016_new.jpg\n",
            "(150, 150, 3)\n",
            "glass_moderate_005_new.jpg\n"
          ],
          "name": "stdout"
        },
        {
          "output_type": "stream",
          "text": [
            " 22%|██▏       | 22/100 [00:04<00:13,  5.58it/s]"
          ],
          "name": "stderr"
        },
        {
          "output_type": "stream",
          "text": [
            "(150, 150, 3)\n",
            "glass_moderate_022_new.jpg\n",
            "(150, 150, 3)\n",
            "glass_moderate_036_new.jpg\n"
          ],
          "name": "stdout"
        },
        {
          "output_type": "stream",
          "text": [
            " 24%|██▍       | 24/100 [00:04<00:12,  5.94it/s]"
          ],
          "name": "stderr"
        },
        {
          "output_type": "stream",
          "text": [
            "(150, 150, 3)\n",
            "glass_moderate_026_new.jpg\n",
            "(150, 150, 3)\n",
            "glass_moderate_043_new.jpg\n"
          ],
          "name": "stdout"
        },
        {
          "output_type": "stream",
          "text": [
            " 26%|██▌       | 26/100 [00:04<00:12,  5.88it/s]"
          ],
          "name": "stderr"
        },
        {
          "output_type": "stream",
          "text": [
            "(150, 150, 3)\n",
            "glass_moderate_018_new.jpg\n",
            "(150, 150, 3)\n",
            "glass_moderate_017_new.jpg\n"
          ],
          "name": "stdout"
        },
        {
          "output_type": "stream",
          "text": [
            " 28%|██▊       | 28/100 [00:05<00:11,  6.06it/s]"
          ],
          "name": "stderr"
        },
        {
          "output_type": "stream",
          "text": [
            "(150, 150, 3)\n",
            "glass_object_009_new.jpg\n",
            "(150, 150, 3)\n",
            "glass_object_023_new.jpg\n"
          ],
          "name": "stdout"
        },
        {
          "output_type": "stream",
          "text": [
            " 30%|███       | 30/100 [00:05<00:11,  5.91it/s]"
          ],
          "name": "stderr"
        },
        {
          "output_type": "stream",
          "text": [
            "(150, 150, 3)\n",
            "glass_object_020_new.jpg\n",
            "(150, 150, 3)\n",
            "glass_object_050_new.jpg\n"
          ],
          "name": "stdout"
        },
        {
          "output_type": "stream",
          "text": [
            " 32%|███▏      | 32/100 [00:05<00:11,  5.88it/s]"
          ],
          "name": "stderr"
        },
        {
          "output_type": "stream",
          "text": [
            "(150, 150, 3)\n",
            "glass_object_025_new.jpg\n",
            "(150, 150, 3)\n",
            "glass_object_032_new.jpg\n"
          ],
          "name": "stdout"
        },
        {
          "output_type": "stream",
          "text": [
            " 34%|███▍      | 34/100 [00:06<00:10,  6.08it/s]"
          ],
          "name": "stderr"
        },
        {
          "output_type": "stream",
          "text": [
            "(150, 150, 3)\n",
            "glass_object_049_new.jpg\n",
            "(150, 150, 3)\n",
            "glass_moderate_004_new.jpg\n"
          ],
          "name": "stdout"
        },
        {
          "output_type": "stream",
          "text": [
            " 36%|███▌      | 36/100 [00:06<00:11,  5.66it/s]"
          ],
          "name": "stderr"
        },
        {
          "output_type": "stream",
          "text": [
            "(150, 150, 3)\n",
            "glass_object_006_new.jpg\n",
            "(150, 150, 3)\n",
            "glass_moderate_013_new.jpg\n"
          ],
          "name": "stdout"
        },
        {
          "output_type": "stream",
          "text": [
            "\r 37%|███▋      | 37/100 [00:06<00:10,  5.90it/s]"
          ],
          "name": "stderr"
        },
        {
          "output_type": "stream",
          "text": [
            "(150, 150, 3)\n",
            "glass_moderate_003_new.jpg\n",
            "(150, 150, 3)"
          ],
          "name": "stdout"
        },
        {
          "output_type": "stream",
          "text": [
            "\r 38%|███▊      | 38/100 [00:07<00:11,  5.58it/s]"
          ],
          "name": "stderr"
        },
        {
          "output_type": "stream",
          "text": [
            "\n",
            "glass_moderate_035_new.jpg\n"
          ],
          "name": "stdout"
        },
        {
          "output_type": "stream",
          "text": [
            "\r 39%|███▉      | 39/100 [00:07<00:11,  5.27it/s]"
          ],
          "name": "stderr"
        },
        {
          "output_type": "stream",
          "text": [
            "(150, 150, 3)\n",
            "glass_moderate_025_new.jpg\n"
          ],
          "name": "stdout"
        },
        {
          "output_type": "stream",
          "text": [
            " 41%|████      | 41/100 [00:07<00:10,  5.37it/s]"
          ],
          "name": "stderr"
        },
        {
          "output_type": "stream",
          "text": [
            "(150, 150, 3)\n",
            "glass_object_004_new.jpg\n",
            "(150, 150, 3)\n",
            "glass_moderate_024_new.jpg\n"
          ],
          "name": "stdout"
        },
        {
          "output_type": "stream",
          "text": [
            " 43%|████▎     | 43/100 [00:07<00:09,  5.78it/s]"
          ],
          "name": "stderr"
        },
        {
          "output_type": "stream",
          "text": [
            "(150, 150, 3)\n",
            "glass_moderate_030_new.jpg\n",
            "(150, 150, 3)\n",
            "glass_object_044_new.jpg\n"
          ],
          "name": "stdout"
        },
        {
          "output_type": "stream",
          "text": [
            "\r 44%|████▍     | 44/100 [00:08<00:09,  5.81it/s]"
          ],
          "name": "stderr"
        },
        {
          "output_type": "stream",
          "text": [
            "(150, 150, 3)\n",
            "glass_moderate_020_new.jpg\n"
          ],
          "name": "stdout"
        },
        {
          "output_type": "stream",
          "text": [
            " 46%|████▌     | 46/100 [00:08<00:12,  4.27it/s]"
          ],
          "name": "stderr"
        },
        {
          "output_type": "stream",
          "text": [
            "(150, 150, 3)\n",
            "glass_moderate_012_new.jpg\n",
            "(150, 150, 3)\n",
            "glass_moderate_027_new.jpg\n"
          ],
          "name": "stdout"
        },
        {
          "output_type": "stream",
          "text": [
            "\r 47%|████▋     | 47/100 [00:09<00:14,  3.60it/s]"
          ],
          "name": "stderr"
        },
        {
          "output_type": "stream",
          "text": [
            "(150, 150, 3)\n",
            "glass_moderate_037_new.jpg\n"
          ],
          "name": "stdout"
        },
        {
          "output_type": "stream",
          "text": [
            "\r 48%|████▊     | 48/100 [00:09<00:15,  3.46it/s]"
          ],
          "name": "stderr"
        },
        {
          "output_type": "stream",
          "text": [
            "(150, 150, 3)\n",
            "glass_object_001_new.jpg\n"
          ],
          "name": "stdout"
        },
        {
          "output_type": "stream",
          "text": [
            "\r 49%|████▉     | 49/100 [00:09<00:14,  3.54it/s]"
          ],
          "name": "stderr"
        },
        {
          "output_type": "stream",
          "text": [
            "(150, 150, 3)\n",
            "glass_object_034_new.jpg\n"
          ],
          "name": "stdout"
        },
        {
          "output_type": "stream",
          "text": [
            " 51%|█████     | 51/100 [00:10<00:12,  4.01it/s]"
          ],
          "name": "stderr"
        },
        {
          "output_type": "stream",
          "text": [
            "(150, 150, 3)\n",
            "glass_object_011_new.jpg\n",
            "(150, 150, 3)\n",
            "glass_object_048_new.jpg\n"
          ],
          "name": "stdout"
        },
        {
          "output_type": "stream",
          "text": [
            " 53%|█████▎    | 53/100 [00:10<00:10,  4.46it/s]"
          ],
          "name": "stderr"
        },
        {
          "output_type": "stream",
          "text": [
            "(150, 150, 3)\n",
            "glass_moderate_048_new.jpg\n",
            "(150, 150, 3)\n",
            "glass_object_027_new.jpg\n"
          ],
          "name": "stdout"
        },
        {
          "output_type": "stream",
          "text": [
            " 55%|█████▌    | 55/100 [00:10<00:08,  5.20it/s]"
          ],
          "name": "stderr"
        },
        {
          "output_type": "stream",
          "text": [
            "(150, 150, 3)\n",
            "glass_object_037_new.jpg\n",
            "(150, 150, 3)\n",
            "glass_object_030_new.jpg\n"
          ],
          "name": "stdout"
        },
        {
          "output_type": "stream",
          "text": [
            "\r 56%|█████▌    | 56/100 [00:11<00:08,  5.46it/s]"
          ],
          "name": "stderr"
        },
        {
          "output_type": "stream",
          "text": [
            "(150, 150, 3)\n",
            "glass_object_014_new.jpg\n"
          ],
          "name": "stdout"
        },
        {
          "output_type": "stream",
          "text": [
            " 58%|█████▊    | 58/100 [00:11<00:07,  5.50it/s]"
          ],
          "name": "stderr"
        },
        {
          "output_type": "stream",
          "text": [
            "(150, 150, 3)\n",
            "glass_moderate_032_new.jpg\n",
            "(150, 150, 3)\n",
            "glass_object_007_new.jpg\n"
          ],
          "name": "stdout"
        },
        {
          "output_type": "stream",
          "text": [
            "\r 59%|█████▉    | 59/100 [00:11<00:07,  5.50it/s]"
          ],
          "name": "stderr"
        },
        {
          "output_type": "stream",
          "text": [
            "(150, 150, 3)\n",
            "glass_moderate_033_new.jpg\n"
          ],
          "name": "stdout"
        },
        {
          "output_type": "stream",
          "text": [
            " 61%|██████    | 61/100 [00:12<00:08,  4.53it/s]"
          ],
          "name": "stderr"
        },
        {
          "output_type": "stream",
          "text": [
            "(150, 150, 3)\n",
            "glass_object_046_new.jpg\n",
            "(150, 150, 3)\n",
            "glass_object_024_new.jpg\n"
          ],
          "name": "stdout"
        },
        {
          "output_type": "stream",
          "text": [
            " 63%|██████▎   | 63/100 [00:12<00:07,  4.84it/s]"
          ],
          "name": "stderr"
        },
        {
          "output_type": "stream",
          "text": [
            "(150, 150, 3)\n",
            "glass_object_043_new.jpg\n",
            "(150, 150, 3)\n",
            "glass_object_039_new.jpg\n"
          ],
          "name": "stdout"
        },
        {
          "output_type": "stream",
          "text": [
            " 65%|██████▌   | 65/100 [00:12<00:06,  5.37it/s]"
          ],
          "name": "stderr"
        },
        {
          "output_type": "stream",
          "text": [
            "(150, 150, 3)\n",
            "glass_moderate_015_new.jpg\n",
            "(150, 150, 3)\n",
            "glass_object_040_new.jpg\n"
          ],
          "name": "stdout"
        },
        {
          "output_type": "stream",
          "text": [
            " 67%|██████▋   | 67/100 [00:13<00:07,  4.40it/s]"
          ],
          "name": "stderr"
        },
        {
          "output_type": "stream",
          "text": [
            "(150, 150, 3)\n",
            "glass_moderate_028_new.jpg\n",
            "(150, 150, 3)\n",
            "glass_moderate_010_new.jpg\n"
          ],
          "name": "stdout"
        },
        {
          "output_type": "stream",
          "text": [
            " 69%|██████▉   | 69/100 [00:13<00:06,  5.05it/s]"
          ],
          "name": "stderr"
        },
        {
          "output_type": "stream",
          "text": [
            "(150, 150, 3)\n",
            "glass_object_002_new.jpg\n",
            "(150, 150, 3)\n",
            "glass_object_031_new.jpg\n"
          ],
          "name": "stdout"
        },
        {
          "output_type": "stream",
          "text": [
            " 71%|███████   | 71/100 [00:14<00:05,  4.95it/s]"
          ],
          "name": "stderr"
        },
        {
          "output_type": "stream",
          "text": [
            "(150, 150, 3)\n",
            "glass_object_008_new.jpg\n",
            "(150, 150, 3)\n",
            "glass_object_016_new.jpg\n"
          ],
          "name": "stdout"
        },
        {
          "output_type": "stream",
          "text": [
            " 73%|███████▎  | 73/100 [00:14<00:05,  5.31it/s]"
          ],
          "name": "stderr"
        },
        {
          "output_type": "stream",
          "text": [
            "(150, 150, 3)\n",
            "glass_moderate_034_new.jpg\n",
            "(150, 150, 3)\n",
            "glass_moderate_039_new.jpg\n"
          ],
          "name": "stdout"
        },
        {
          "output_type": "stream",
          "text": [
            " 75%|███████▌  | 75/100 [00:14<00:04,  5.73it/s]"
          ],
          "name": "stderr"
        },
        {
          "output_type": "stream",
          "text": [
            "(150, 150, 3)\n",
            "glass_moderate_046_new.jpg\n",
            "(150, 150, 3)\n",
            "glass_moderate_023_new.jpg\n"
          ],
          "name": "stdout"
        },
        {
          "output_type": "stream",
          "text": [
            " 77%|███████▋  | 77/100 [00:15<00:04,  5.51it/s]"
          ],
          "name": "stderr"
        },
        {
          "output_type": "stream",
          "text": [
            "(150, 150, 3)\n",
            "glass_moderate_031_new.jpg\n",
            "(150, 150, 3)\n",
            "glass_object_018_new.jpg\n"
          ],
          "name": "stdout"
        },
        {
          "output_type": "stream",
          "text": [
            " 79%|███████▉  | 79/100 [00:15<00:04,  5.18it/s]"
          ],
          "name": "stderr"
        },
        {
          "output_type": "stream",
          "text": [
            "(150, 150, 3)\n",
            "glass_moderate_019_new.jpg\n",
            "(150, 150, 3)\n"
          ],
          "name": "stdout"
        },
        {
          "output_type": "stream",
          "text": [
            "\r 80%|████████  | 80/100 [00:15<00:03,  5.44it/s]"
          ],
          "name": "stderr"
        },
        {
          "output_type": "stream",
          "text": [
            "glass_moderate_011_new.jpg\n",
            "(150, 150, 3)\n",
            "glass_object_005_new.jpg\n"
          ],
          "name": "stdout"
        },
        {
          "output_type": "stream",
          "text": [
            " 82%|████████▏ | 82/100 [00:16<00:03,  5.55it/s]"
          ],
          "name": "stderr"
        },
        {
          "output_type": "stream",
          "text": [
            "(150, 150, 3)\n",
            "glass_object_010_new.jpg\n",
            "(150, 150, 3)\n",
            "glass_object_015_new.jpg\n"
          ],
          "name": "stdout"
        },
        {
          "output_type": "stream",
          "text": [
            "\r 83%|████████▎ | 83/100 [00:16<00:03,  5.63it/s]"
          ],
          "name": "stderr"
        },
        {
          "output_type": "stream",
          "text": [
            "(150, 150, 3)\n",
            "glass_object_035_new.jpg\n"
          ],
          "name": "stdout"
        },
        {
          "output_type": "stream",
          "text": [
            " 85%|████████▌ | 85/100 [00:16<00:02,  5.46it/s]"
          ],
          "name": "stderr"
        },
        {
          "output_type": "stream",
          "text": [
            "(150, 150, 3)\n",
            "glass_object_022_new.jpg\n",
            "(150, 150, 3)\n",
            "glass_object_029_new.jpg\n"
          ],
          "name": "stdout"
        },
        {
          "output_type": "stream",
          "text": [
            " 87%|████████▋ | 87/100 [00:17<00:02,  5.65it/s]"
          ],
          "name": "stderr"
        },
        {
          "output_type": "stream",
          "text": [
            "(150, 150, 3)\n",
            "glass_object_038_new.jpg\n",
            "(150, 150, 3)\n",
            "glass_object_013_new.jpg\n"
          ],
          "name": "stdout"
        },
        {
          "output_type": "stream",
          "text": [
            " 89%|████████▉ | 89/100 [00:17<00:01,  5.67it/s]"
          ],
          "name": "stderr"
        },
        {
          "output_type": "stream",
          "text": [
            "(150, 150, 3)\n",
            "glass_moderate_042_new.jpg\n",
            "(150, 150, 3)\n",
            "glass_moderate_045_new.jpg\n"
          ],
          "name": "stdout"
        },
        {
          "output_type": "stream",
          "text": [
            " 91%|█████████ | 91/100 [00:17<00:01,  6.05it/s]"
          ],
          "name": "stderr"
        },
        {
          "output_type": "stream",
          "text": [
            "(150, 150, 3)\n",
            "glass_moderate_021_new.jpg\n",
            "(150, 150, 3)\n",
            "glass_object_026_new.jpg\n"
          ],
          "name": "stdout"
        },
        {
          "output_type": "stream",
          "text": [
            " 93%|█████████▎| 93/100 [00:18<00:01,  5.63it/s]"
          ],
          "name": "stderr"
        },
        {
          "output_type": "stream",
          "text": [
            "(150, 150, 3)\n",
            "glass_moderate_008_new.jpg\n",
            "(150, 150, 3)\n",
            "glass_moderate_040_new.jpg\n"
          ],
          "name": "stdout"
        },
        {
          "output_type": "stream",
          "text": [
            "\r 94%|█████████▍| 94/100 [00:18<00:01,  5.91it/s]"
          ],
          "name": "stderr"
        },
        {
          "output_type": "stream",
          "text": [
            "(150, 150, 3)\n",
            "glass_object_019_new.jpg\n"
          ],
          "name": "stdout"
        },
        {
          "output_type": "stream",
          "text": [
            " 96%|█████████▌| 96/100 [00:18<00:00,  5.42it/s]"
          ],
          "name": "stderr"
        },
        {
          "output_type": "stream",
          "text": [
            "(150, 150, 3)\n",
            "glass_object_017_new.jpg\n",
            "(150, 150, 3)\n",
            "glass_object_042_new.jpg\n"
          ],
          "name": "stdout"
        },
        {
          "output_type": "stream",
          "text": [
            "\r 97%|█████████▋| 97/100 [00:19<00:00,  4.08it/s]"
          ],
          "name": "stderr"
        },
        {
          "output_type": "stream",
          "text": [
            "(150, 150, 3)\n",
            "glass_moderate_047_new.jpg\n"
          ],
          "name": "stdout"
        },
        {
          "output_type": "stream",
          "text": [
            " 99%|█████████▉| 99/100 [00:19<00:00,  4.59it/s]"
          ],
          "name": "stderr"
        },
        {
          "output_type": "stream",
          "text": [
            "(150, 150, 3)\n",
            "glass_object_047_new.jpg\n",
            "(150, 150, 3)\n",
            "glass_moderate_001_new.jpg\n"
          ],
          "name": "stdout"
        },
        {
          "output_type": "stream",
          "text": [
            "\r100%|██████████| 100/100 [00:19<00:00,  4.79it/s]"
          ],
          "name": "stderr"
        },
        {
          "output_type": "stream",
          "text": [
            "(150, 150, 3)\n"
          ],
          "name": "stdout"
        },
        {
          "output_type": "stream",
          "text": [
            "\n"
          ],
          "name": "stderr"
        }
      ]
    },
    {
      "metadata": {
        "id": "IHLF4MPKEa9r",
        "colab_type": "code",
        "outputId": "993377b1-f4cc-476f-e2fd-eeadd5946b97",
        "colab": {
          "base_uri": "https://localhost:8080/",
          "height": 35
        }
      },
      "cell_type": "code",
      "source": [
        "print(dataset[110][1])"
      ],
      "execution_count": 0,
      "outputs": [
        {
          "output_type": "stream",
          "text": [
            "1\n"
          ],
          "name": "stdout"
        }
      ]
    },
    {
      "metadata": {
        "id": "7n_7CrOPdh-I",
        "colab_type": "code",
        "colab": {}
      },
      "cell_type": "code",
      "source": [
        "\n",
        "dataset = np.array(dataset)\n",
        "features = dataset[:, 0]\n",
        "\n",
        "features.shape\n",
        "\n",
        "labels = dataset[:, 1]\n",
        "\n",
        "labels.shape\n",
        "\n",
        "labels_one_hot_encoded = to_categorical(labels, NUM_OF_CLASSES)\n",
        "\n"
      ],
      "execution_count": 0,
      "outputs": []
    },
    {
      "metadata": {
        "id": "YVerrt0Hdi9s",
        "colab_type": "code",
        "colab": {}
      },
      "cell_type": "code",
      "source": [
        "feature =[]\n",
        "for i in range(len(features)):\n",
        "    feature.append(features[i])\n",
        "\n",
        "features = np.asarray(feature)"
      ],
      "execution_count": 0,
      "outputs": []
    },
    {
      "metadata": {
        "id": "1pD_YZZgkGSs",
        "colab_type": "code",
        "colab": {}
      },
      "cell_type": "code",
      "source": [
        "x_train, x_test, y_train, y_test= train_test_split(features, labels_one_hot_encoded, test_size = 0.10, stratify = labels_one_hot_encoded)"
      ],
      "execution_count": 0,
      "outputs": []
    },
    {
      "metadata": {
        "id": "5qMvYt8Nk8th",
        "colab_type": "code",
        "outputId": "3891b37f-d167-4f9b-d338-1ca2070874e3",
        "colab": {
          "base_uri": "https://localhost:8080/",
          "height": 35
        }
      },
      "cell_type": "code",
      "source": [
        "\n",
        "cv2.imwrite('messigray.jpg',x_train[200])\n"
      ],
      "execution_count": 0,
      "outputs": [
        {
          "output_type": "execute_result",
          "data": {
            "text/plain": [
              "True"
            ]
          },
          "metadata": {
            "tags": []
          },
          "execution_count": 34
        }
      ]
    },
    {
      "metadata": {
        "id": "N9j5MRjUsUr0",
        "colab_type": "code",
        "outputId": "778d7fe6-3e53-4179-f0fb-b98c8e3c9cd4",
        "colab": {
          "base_uri": "https://localhost:8080/",
          "height": 217
        }
      },
      "cell_type": "code",
      "source": [
        "\n",
        "from IPython.display import Image\n",
        "Image('messigray.jpg',width=200, height=200)"
      ],
      "execution_count": 0,
      "outputs": [
        {
          "output_type": "execute_result",
          "data": {
            "image/jpeg": "[encoded data removed]",
            "text/plain": [
              "<IPython.core.display.Image object>"
            ]
          },
          "metadata": {
            "tags": [],
            "image/jpeg": {
              "width": 200,
              "height": 200
            }
          },
          "execution_count": 35
        }
      ]
    },
    {
      "metadata": {
        "id": "fe4VYlpKEONi",
        "colab_type": "code",
        "outputId": "184d37ab-838c-4528-b58c-31e043943966",
        "colab": {
          "base_uri": "https://localhost:8080/",
          "height": 35
        }
      },
      "cell_type": "code",
      "source": [
        "print(y_train[200])"
      ],
      "execution_count": 0,
      "outputs": [
        {
          "output_type": "stream",
          "text": [
            "[1. 0. 0. 0.]\n"
          ],
          "name": "stdout"
        }
      ]
    },
    {
      "metadata": {
        "id": "JblWnyurx3bf",
        "colab_type": "code",
        "outputId": "734d1a58-fe60-4afd-d620-04f00c722784",
        "colab": {
          "base_uri": "https://localhost:8080/",
          "height": 91
        }
      },
      "cell_type": "code",
      "source": [
        "model = Sequential()\n",
        "model.add(Conv2D(32,3, strides = (1,1), activation = 'relu', input_shape=(img_height,img_width,3)))\n",
        "model.add(MaxPooling2D((3,3), strides = (3,3)))\n",
        "\n",
        "model.add(Conv2D(72,5, strides = (1,1), activation = 'relu'))\n",
        "model.add(MaxPooling2D((3,3), strides = (3,3)))\n",
        "\n",
        "model.add(Flatten())\n",
        "\n",
        "model.add(Dense(7200, use_bias = True))\n",
        "\n",
        "model.add(Dense(1024, use_bias = True))\n",
        "\n",
        "model.add((Dense(4, use_bias= True,activation = 'softmax')))\n"
      ],
      "execution_count": 0,
      "outputs": [
        {
          "output_type": "stream",
          "text": [
            "WARNING:tensorflow:From /usr/local/lib/python3.6/dist-packages/tensorflow/python/framework/op_def_library.py:263: colocate_with (from tensorflow.python.framework.ops) is deprecated and will be removed in a future version.\n",
            "Instructions for updating:\n",
            "Colocations handled automatically by placer.\n"
          ],
          "name": "stdout"
        }
      ]
    },
    {
      "metadata": {
        "id": "WcED6VGqGXYU",
        "colab_type": "code",
        "colab": {}
      },
      "cell_type": "code",
      "source": [
        "train_datagen = ImageDataGenerator(\n",
        "    rotation_range  = 10,\n",
        "    shear_range     = 10, # 10 degrees\n",
        "    zoom_range      = 0.1,\n",
        "    fill_mode       = 'reflect',\n",
        "    horizontal_flip = True)"
      ],
      "execution_count": 0,
      "outputs": []
    },
    {
      "metadata": {
        "id": "w3-UVkThUgdW",
        "colab_type": "text"
      },
      "cell_type": "markdown",
      "source": [
        "\n",
        "\n",
        "```\n",
        "Generator Code\n",
        "```\n",
        "\n"
      ]
    },
    {
      "metadata": {
        "id": "d-MCpQdUskKF",
        "colab_type": "code",
        "outputId": "6198c205-c162-491a-ff8c-f115e32e80c2",
        "colab": {
          "base_uri": "https://localhost:8080/",
          "height": 55
        }
      },
      "cell_type": "code",
      "source": [
        "'''\n",
        "i = 0;\n",
        "for X_batch, Y_batch in train_datagen.flow(x_train, y_train, batch_size=360):\n",
        "  print(X_batch.shape , Y_batch.shape)\n",
        "  break;\n",
        "for x_batch, y_batch in train_datagen.flow(x_train, y_train, batch_size=360):\n",
        "  if i == 10:\n",
        "    break\n",
        "  X_batch = np.concatenate((X_batch, x_batch), axis=0)\n",
        "  Y_batch = np.concatenate((Y_batch, y_batch), axis=0)\n",
        "  print(X_batch.shape , Y_batch.shape)\n",
        "  i = i + 1  \n",
        "'''"
      ],
      "execution_count": 0,
      "outputs": [
        {
          "output_type": "execute_result",
          "data": {
            "text/plain": [
              "'\\ni = 0;\\nfor X_batch, Y_batch in train_datagen.flow(x_train, y_train, batch_size=360):\\n  print(X_batch.shape , Y_batch.shape)\\n  break;\\nfor x_batch, y_batch in train_datagen.flow(x_train, y_train, batch_size=360):\\n  if i == 10:\\n    break\\n  X_batch = np.concatenate((X_batch, x_batch), axis=0)\\n  Y_batch = np.concatenate((Y_batch, y_batch), axis=0)\\n  print(X_batch.shape , Y_batch.shape)\\n  i = i + 1  \\n'"
            ]
          },
          "metadata": {
            "tags": []
          },
          "execution_count": 15
        }
      ]
    },
    {
      "metadata": {
        "id": "HK7TS-xI9KUK",
        "colab_type": "code",
        "colab": {}
      },
      "cell_type": "code",
      "source": [
        ""
      ],
      "execution_count": 0,
      "outputs": []
    },
    {
      "metadata": {
        "colab_type": "code",
        "id": "LSEuIA-K9S9T",
        "colab": {}
      },
      "cell_type": "code",
      "source": [
        "\n",
        "#cv2.imwrite('messigray.jpg',X_batch[10])\n"
      ],
      "execution_count": 0,
      "outputs": []
    },
    {
      "metadata": {
        "id": "ENvD-ENv9ksP",
        "colab_type": "code",
        "colab": {}
      },
      "cell_type": "code",
      "source": [
        "#Image('messigray.jpg',width=150, height=150)"
      ],
      "execution_count": 0,
      "outputs": []
    },
    {
      "metadata": {
        "id": "Z44tlpXwUl0K",
        "colab_type": "code",
        "outputId": "2465aa40-917e-4d1c-a0e1-bc45c278cf23",
        "colab": {
          "base_uri": "https://localhost:8080/",
          "height": 53
        }
      },
      "cell_type": "code",
      "source": [
        "%%time\n",
        "train_generator = train_datagen.flow(\n",
        "    x_train,\n",
        "    y_train,\n",
        "    batch_size  = batch_size)"
      ],
      "execution_count": 0,
      "outputs": [
        {
          "output_type": "stream",
          "text": [
            "CPU times: user 18.3 ms, sys: 36.5 ms, total: 54.8 ms\n",
            "Wall time: 58.2 ms\n"
          ],
          "name": "stdout"
        }
      ]
    },
    {
      "metadata": {
        "id": "CPmnz9o8Glj7",
        "colab_type": "code",
        "colab": {}
      },
      "cell_type": "code",
      "source": [
        "model.compile(\n",
        "    optimizer   = 'adam',\n",
        "    loss        = 'mean_squared_error', \n",
        "    metrics     = ['accuracy'])"
      ],
      "execution_count": 0,
      "outputs": []
    },
    {
      "metadata": {
        "id": "LGsw0uvnVCtS",
        "colab_type": "code",
        "outputId": "3afe68a3-c819-4170-cc09-398f87705f6a",
        "colab": {
          "base_uri": "https://localhost:8080/",
          "height": 431
        }
      },
      "cell_type": "code",
      "source": [
        "model.summary()"
      ],
      "execution_count": 0,
      "outputs": [
        {
          "output_type": "stream",
          "text": [
            "_________________________________________________________________\n",
            "Layer (type)                 Output Shape              Param #   \n",
            "=================================================================\n",
            "conv2d_1 (Conv2D)            (None, 148, 148, 32)      896       \n",
            "_________________________________________________________________\n",
            "max_pooling2d_1 (MaxPooling2 (None, 49, 49, 32)        0         \n",
            "_________________________________________________________________\n",
            "conv2d_2 (Conv2D)            (None, 45, 45, 72)        57672     \n",
            "_________________________________________________________________\n",
            "max_pooling2d_2 (MaxPooling2 (None, 15, 15, 72)        0         \n",
            "_________________________________________________________________\n",
            "flatten_1 (Flatten)          (None, 16200)             0         \n",
            "_________________________________________________________________\n",
            "dense_1 (Dense)              (None, 7200)              116647200 \n",
            "_________________________________________________________________\n",
            "dense_2 (Dense)              (None, 1024)              7373824   \n",
            "_________________________________________________________________\n",
            "dense_3 (Dense)              (None, 4)                 4100      \n",
            "=================================================================\n",
            "Total params: 124,083,692\n",
            "Trainable params: 124,083,692\n",
            "Non-trainable params: 0\n",
            "_________________________________________________________________\n"
          ],
          "name": "stdout"
        }
      ]
    },
    {
      "metadata": {
        "id": "A2Vodl36x9td",
        "colab_type": "code",
        "outputId": "83d7ab16-b1e8-4745-85b7-694c68598a2f",
        "colab": {
          "base_uri": "https://localhost:8080/",
          "height": 1899
        }
      },
      "cell_type": "code",
      "source": [
        "%%time\n",
        "model.fit_generator(\n",
        "    generator = train_generator,\n",
        "    steps_per_epoch     = len(x_train) // 32,\n",
        "    epochs = 10,\n",
        "    validation_data =(x_test, y_test))"
      ],
      "execution_count": 0,
      "outputs": [
        {
          "output_type": "stream",
          "text": [
            "Epoch 1/10\n",
            "11/11 [==============================] - 6s 503ms/step - loss: 0.3703 - acc: 0.2593 - val_loss: 0.3750 - val_acc: 0.2500\n",
            "Epoch 2/10\n",
            "11/11 [==============================] - 2s 195ms/step - loss: 0.3772 - acc: 0.2456 - val_loss: 0.3750 - val_acc: 0.2500\n",
            "Epoch 3/10\n",
            "11/11 [==============================] - 2s 191ms/step - loss: 0.3732 - acc: 0.2536 - val_loss: 0.3750 - val_acc: 0.2500\n",
            "Epoch 4/10\n",
            "11/11 [==============================] - 2s 192ms/step - loss: 0.3918 - acc: 0.2165 - val_loss: 0.3750 - val_acc: 0.2500\n",
            "Epoch 5/10\n",
            "11/11 [==============================] - 2s 191ms/step - loss: 0.3757 - acc: 0.2487 - val_loss: 0.3750 - val_acc: 0.2500\n",
            "Epoch 6/10\n",
            "11/11 [==============================] - 2s 218ms/step - loss: 0.3728 - acc: 0.2544 - val_loss: 0.3750 - val_acc: 0.2500\n",
            "Epoch 7/10\n",
            " 4/11 [=========>....................] - ETA: 1s - loss: 0.3711 - acc: 0.2578"
          ],
          "name": "stdout"
        },
        {
          "output_type": "error",
          "ename": "KeyboardInterrupt",
          "evalue": "ignored",
          "traceback": [
            "\u001b[0;31m---------------------------------------------------------------------------\u001b[0m",
            "\u001b[0;31mKeyboardInterrupt\u001b[0m                         Traceback (most recent call last)",
            "\u001b[0;32m<ipython-input-29-9b9532edb082>\u001b[0m in \u001b[0;36m<module>\u001b[0;34m()\u001b[0m\n\u001b[0;32m----> 1\u001b[0;31m \u001b[0mget_ipython\u001b[0m\u001b[0;34m(\u001b[0m\u001b[0;34m)\u001b[0m\u001b[0;34m.\u001b[0m\u001b[0mrun_cell_magic\u001b[0m\u001b[0;34m(\u001b[0m\u001b[0;34m'time'\u001b[0m\u001b[0;34m,\u001b[0m \u001b[0;34m''\u001b[0m\u001b[0;34m,\u001b[0m \u001b[0;34m'model.fit_generator(\\n    generator = train_generator,\\n    steps_per_epoch     = len(x_train) // 32,\\n    epochs = 10,\\n    validation_data =(x_test, y_test))'\u001b[0m\u001b[0;34m)\u001b[0m\u001b[0;34m\u001b[0m\u001b[0;34m\u001b[0m\u001b[0m\n\u001b[0m",
            "\u001b[0;32m/usr/local/lib/python3.6/dist-packages/IPython/core/interactiveshell.py\u001b[0m in \u001b[0;36mrun_cell_magic\u001b[0;34m(self, magic_name, line, cell)\u001b[0m\n\u001b[1;32m   2115\u001b[0m             \u001b[0mmagic_arg_s\u001b[0m \u001b[0;34m=\u001b[0m \u001b[0mself\u001b[0m\u001b[0;34m.\u001b[0m\u001b[0mvar_expand\u001b[0m\u001b[0;34m(\u001b[0m\u001b[0mline\u001b[0m\u001b[0;34m,\u001b[0m \u001b[0mstack_depth\u001b[0m\u001b[0;34m)\u001b[0m\u001b[0;34m\u001b[0m\u001b[0;34m\u001b[0m\u001b[0m\n\u001b[1;32m   2116\u001b[0m             \u001b[0;32mwith\u001b[0m \u001b[0mself\u001b[0m\u001b[0;34m.\u001b[0m\u001b[0mbuiltin_trap\u001b[0m\u001b[0;34m:\u001b[0m\u001b[0;34m\u001b[0m\u001b[0;34m\u001b[0m\u001b[0m\n\u001b[0;32m-> 2117\u001b[0;31m                 \u001b[0mresult\u001b[0m \u001b[0;34m=\u001b[0m \u001b[0mfn\u001b[0m\u001b[0;34m(\u001b[0m\u001b[0mmagic_arg_s\u001b[0m\u001b[0;34m,\u001b[0m \u001b[0mcell\u001b[0m\u001b[0;34m)\u001b[0m\u001b[0;34m\u001b[0m\u001b[0;34m\u001b[0m\u001b[0m\n\u001b[0m\u001b[1;32m   2118\u001b[0m             \u001b[0;32mreturn\u001b[0m \u001b[0mresult\u001b[0m\u001b[0;34m\u001b[0m\u001b[0;34m\u001b[0m\u001b[0m\n\u001b[1;32m   2119\u001b[0m \u001b[0;34m\u001b[0m\u001b[0m\n",
            "\u001b[0;32m</usr/local/lib/python3.6/dist-packages/decorator.py:decorator-gen-60>\u001b[0m in \u001b[0;36mtime\u001b[0;34m(self, line, cell, local_ns)\u001b[0m\n",
            "\u001b[0;32m/usr/local/lib/python3.6/dist-packages/IPython/core/magic.py\u001b[0m in \u001b[0;36m<lambda>\u001b[0;34m(f, *a, **k)\u001b[0m\n\u001b[1;32m    186\u001b[0m     \u001b[0;31m# but it's overkill for just that one bit of state.\u001b[0m\u001b[0;34m\u001b[0m\u001b[0;34m\u001b[0m\u001b[0;34m\u001b[0m\u001b[0m\n\u001b[1;32m    187\u001b[0m     \u001b[0;32mdef\u001b[0m \u001b[0mmagic_deco\u001b[0m\u001b[0;34m(\u001b[0m\u001b[0marg\u001b[0m\u001b[0;34m)\u001b[0m\u001b[0;34m:\u001b[0m\u001b[0;34m\u001b[0m\u001b[0;34m\u001b[0m\u001b[0m\n\u001b[0;32m--> 188\u001b[0;31m         \u001b[0mcall\u001b[0m \u001b[0;34m=\u001b[0m \u001b[0;32mlambda\u001b[0m \u001b[0mf\u001b[0m\u001b[0;34m,\u001b[0m \u001b[0;34m*\u001b[0m\u001b[0ma\u001b[0m\u001b[0;34m,\u001b[0m \u001b[0;34m**\u001b[0m\u001b[0mk\u001b[0m\u001b[0;34m:\u001b[0m \u001b[0mf\u001b[0m\u001b[0;34m(\u001b[0m\u001b[0;34m*\u001b[0m\u001b[0ma\u001b[0m\u001b[0;34m,\u001b[0m \u001b[0;34m**\u001b[0m\u001b[0mk\u001b[0m\u001b[0;34m)\u001b[0m\u001b[0;34m\u001b[0m\u001b[0;34m\u001b[0m\u001b[0m\n\u001b[0m\u001b[1;32m    189\u001b[0m \u001b[0;34m\u001b[0m\u001b[0m\n\u001b[1;32m    190\u001b[0m         \u001b[0;32mif\u001b[0m \u001b[0mcallable\u001b[0m\u001b[0;34m(\u001b[0m\u001b[0marg\u001b[0m\u001b[0;34m)\u001b[0m\u001b[0;34m:\u001b[0m\u001b[0;34m\u001b[0m\u001b[0;34m\u001b[0m\u001b[0m\n",
            "\u001b[0;32m/usr/local/lib/python3.6/dist-packages/IPython/core/magics/execution.py\u001b[0m in \u001b[0;36mtime\u001b[0;34m(self, line, cell, local_ns)\u001b[0m\n\u001b[1;32m   1187\u001b[0m         \u001b[0;32mif\u001b[0m \u001b[0mmode\u001b[0m\u001b[0;34m==\u001b[0m\u001b[0;34m'eval'\u001b[0m\u001b[0;34m:\u001b[0m\u001b[0;34m\u001b[0m\u001b[0;34m\u001b[0m\u001b[0m\n\u001b[1;32m   1188\u001b[0m             \u001b[0mst\u001b[0m \u001b[0;34m=\u001b[0m \u001b[0mclock2\u001b[0m\u001b[0;34m(\u001b[0m\u001b[0;34m)\u001b[0m\u001b[0;34m\u001b[0m\u001b[0;34m\u001b[0m\u001b[0m\n\u001b[0;32m-> 1189\u001b[0;31m             \u001b[0mout\u001b[0m \u001b[0;34m=\u001b[0m \u001b[0meval\u001b[0m\u001b[0;34m(\u001b[0m\u001b[0mcode\u001b[0m\u001b[0;34m,\u001b[0m \u001b[0mglob\u001b[0m\u001b[0;34m,\u001b[0m \u001b[0mlocal_ns\u001b[0m\u001b[0;34m)\u001b[0m\u001b[0;34m\u001b[0m\u001b[0;34m\u001b[0m\u001b[0m\n\u001b[0m\u001b[1;32m   1190\u001b[0m             \u001b[0mend\u001b[0m \u001b[0;34m=\u001b[0m \u001b[0mclock2\u001b[0m\u001b[0;34m(\u001b[0m\u001b[0;34m)\u001b[0m\u001b[0;34m\u001b[0m\u001b[0;34m\u001b[0m\u001b[0m\n\u001b[1;32m   1191\u001b[0m         \u001b[0;32melse\u001b[0m\u001b[0;34m:\u001b[0m\u001b[0;34m\u001b[0m\u001b[0;34m\u001b[0m\u001b[0m\n",
            "\u001b[0;32m<timed eval>\u001b[0m in \u001b[0;36m<module>\u001b[0;34m()\u001b[0m\n",
            "\u001b[0;32m/usr/local/lib/python3.6/dist-packages/keras/legacy/interfaces.py\u001b[0m in \u001b[0;36mwrapper\u001b[0;34m(*args, **kwargs)\u001b[0m\n\u001b[1;32m     89\u001b[0m                 warnings.warn('Update your `' + object_name + '` call to the ' +\n\u001b[1;32m     90\u001b[0m                               'Keras 2 API: ' + signature, stacklevel=2)\n\u001b[0;32m---> 91\u001b[0;31m             \u001b[0;32mreturn\u001b[0m \u001b[0mfunc\u001b[0m\u001b[0;34m(\u001b[0m\u001b[0;34m*\u001b[0m\u001b[0margs\u001b[0m\u001b[0;34m,\u001b[0m \u001b[0;34m**\u001b[0m\u001b[0mkwargs\u001b[0m\u001b[0;34m)\u001b[0m\u001b[0;34m\u001b[0m\u001b[0;34m\u001b[0m\u001b[0m\n\u001b[0m\u001b[1;32m     92\u001b[0m         \u001b[0mwrapper\u001b[0m\u001b[0;34m.\u001b[0m\u001b[0m_original_function\u001b[0m \u001b[0;34m=\u001b[0m \u001b[0mfunc\u001b[0m\u001b[0;34m\u001b[0m\u001b[0;34m\u001b[0m\u001b[0m\n\u001b[1;32m     93\u001b[0m         \u001b[0;32mreturn\u001b[0m \u001b[0mwrapper\u001b[0m\u001b[0;34m\u001b[0m\u001b[0;34m\u001b[0m\u001b[0m\n",
            "\u001b[0;32m/usr/local/lib/python3.6/dist-packages/keras/engine/training.py\u001b[0m in \u001b[0;36mfit_generator\u001b[0;34m(self, generator, steps_per_epoch, epochs, verbose, callbacks, validation_data, validation_steps, class_weight, max_queue_size, workers, use_multiprocessing, shuffle, initial_epoch)\u001b[0m\n\u001b[1;32m   1416\u001b[0m             \u001b[0muse_multiprocessing\u001b[0m\u001b[0;34m=\u001b[0m\u001b[0muse_multiprocessing\u001b[0m\u001b[0;34m,\u001b[0m\u001b[0;34m\u001b[0m\u001b[0;34m\u001b[0m\u001b[0m\n\u001b[1;32m   1417\u001b[0m             \u001b[0mshuffle\u001b[0m\u001b[0;34m=\u001b[0m\u001b[0mshuffle\u001b[0m\u001b[0;34m,\u001b[0m\u001b[0;34m\u001b[0m\u001b[0;34m\u001b[0m\u001b[0m\n\u001b[0;32m-> 1418\u001b[0;31m             initial_epoch=initial_epoch)\n\u001b[0m\u001b[1;32m   1419\u001b[0m \u001b[0;34m\u001b[0m\u001b[0m\n\u001b[1;32m   1420\u001b[0m     \u001b[0;34m@\u001b[0m\u001b[0minterfaces\u001b[0m\u001b[0;34m.\u001b[0m\u001b[0mlegacy_generator_methods_support\u001b[0m\u001b[0;34m\u001b[0m\u001b[0;34m\u001b[0m\u001b[0m\n",
            "\u001b[0;32m/usr/local/lib/python3.6/dist-packages/keras/engine/training_generator.py\u001b[0m in \u001b[0;36mfit_generator\u001b[0;34m(model, generator, steps_per_epoch, epochs, verbose, callbacks, validation_data, validation_steps, class_weight, max_queue_size, workers, use_multiprocessing, shuffle, initial_epoch)\u001b[0m\n\u001b[1;32m    179\u001b[0m             \u001b[0mbatch_index\u001b[0m \u001b[0;34m=\u001b[0m \u001b[0;36m0\u001b[0m\u001b[0;34m\u001b[0m\u001b[0;34m\u001b[0m\u001b[0m\n\u001b[1;32m    180\u001b[0m             \u001b[0;32mwhile\u001b[0m \u001b[0msteps_done\u001b[0m \u001b[0;34m<\u001b[0m \u001b[0msteps_per_epoch\u001b[0m\u001b[0;34m:\u001b[0m\u001b[0;34m\u001b[0m\u001b[0;34m\u001b[0m\u001b[0m\n\u001b[0;32m--> 181\u001b[0;31m                 \u001b[0mgenerator_output\u001b[0m \u001b[0;34m=\u001b[0m \u001b[0mnext\u001b[0m\u001b[0;34m(\u001b[0m\u001b[0moutput_generator\u001b[0m\u001b[0;34m)\u001b[0m\u001b[0;34m\u001b[0m\u001b[0;34m\u001b[0m\u001b[0m\n\u001b[0m\u001b[1;32m    182\u001b[0m \u001b[0;34m\u001b[0m\u001b[0m\n\u001b[1;32m    183\u001b[0m                 \u001b[0;32mif\u001b[0m \u001b[0;32mnot\u001b[0m \u001b[0mhasattr\u001b[0m\u001b[0;34m(\u001b[0m\u001b[0mgenerator_output\u001b[0m\u001b[0;34m,\u001b[0m \u001b[0;34m'__len__'\u001b[0m\u001b[0;34m)\u001b[0m\u001b[0;34m:\u001b[0m\u001b[0;34m\u001b[0m\u001b[0;34m\u001b[0m\u001b[0m\n",
            "\u001b[0;32m/usr/local/lib/python3.6/dist-packages/keras/utils/data_utils.py\u001b[0m in \u001b[0;36mget\u001b[0;34m(self)\u001b[0m\n\u001b[1;32m    683\u001b[0m         \u001b[0;32mtry\u001b[0m\u001b[0;34m:\u001b[0m\u001b[0;34m\u001b[0m\u001b[0;34m\u001b[0m\u001b[0m\n\u001b[1;32m    684\u001b[0m             \u001b[0;32mwhile\u001b[0m \u001b[0mself\u001b[0m\u001b[0;34m.\u001b[0m\u001b[0mis_running\u001b[0m\u001b[0;34m(\u001b[0m\u001b[0;34m)\u001b[0m\u001b[0;34m:\u001b[0m\u001b[0;34m\u001b[0m\u001b[0;34m\u001b[0m\u001b[0m\n\u001b[0;32m--> 685\u001b[0;31m                 \u001b[0minputs\u001b[0m \u001b[0;34m=\u001b[0m \u001b[0mself\u001b[0m\u001b[0;34m.\u001b[0m\u001b[0mqueue\u001b[0m\u001b[0;34m.\u001b[0m\u001b[0mget\u001b[0m\u001b[0;34m(\u001b[0m\u001b[0mblock\u001b[0m\u001b[0;34m=\u001b[0m\u001b[0;32mTrue\u001b[0m\u001b[0;34m)\u001b[0m\u001b[0;34m.\u001b[0m\u001b[0mget\u001b[0m\u001b[0;34m(\u001b[0m\u001b[0;34m)\u001b[0m\u001b[0;34m\u001b[0m\u001b[0;34m\u001b[0m\u001b[0m\n\u001b[0m\u001b[1;32m    686\u001b[0m                 \u001b[0mself\u001b[0m\u001b[0;34m.\u001b[0m\u001b[0mqueue\u001b[0m\u001b[0;34m.\u001b[0m\u001b[0mtask_done\u001b[0m\u001b[0;34m(\u001b[0m\u001b[0;34m)\u001b[0m\u001b[0;34m\u001b[0m\u001b[0;34m\u001b[0m\u001b[0m\n\u001b[1;32m    687\u001b[0m                 \u001b[0;32mif\u001b[0m \u001b[0minputs\u001b[0m \u001b[0;32mis\u001b[0m \u001b[0;32mnot\u001b[0m \u001b[0;32mNone\u001b[0m\u001b[0;34m:\u001b[0m\u001b[0;34m\u001b[0m\u001b[0;34m\u001b[0m\u001b[0m\n",
            "\u001b[0;32m/usr/lib/python3.6/multiprocessing/pool.py\u001b[0m in \u001b[0;36mget\u001b[0;34m(self, timeout)\u001b[0m\n\u001b[1;32m    662\u001b[0m \u001b[0;34m\u001b[0m\u001b[0m\n\u001b[1;32m    663\u001b[0m     \u001b[0;32mdef\u001b[0m \u001b[0mget\u001b[0m\u001b[0;34m(\u001b[0m\u001b[0mself\u001b[0m\u001b[0;34m,\u001b[0m \u001b[0mtimeout\u001b[0m\u001b[0;34m=\u001b[0m\u001b[0;32mNone\u001b[0m\u001b[0;34m)\u001b[0m\u001b[0;34m:\u001b[0m\u001b[0;34m\u001b[0m\u001b[0;34m\u001b[0m\u001b[0m\n\u001b[0;32m--> 664\u001b[0;31m         \u001b[0mself\u001b[0m\u001b[0;34m.\u001b[0m\u001b[0mwait\u001b[0m\u001b[0;34m(\u001b[0m\u001b[0mtimeout\u001b[0m\u001b[0;34m)\u001b[0m\u001b[0;34m\u001b[0m\u001b[0;34m\u001b[0m\u001b[0m\n\u001b[0m\u001b[1;32m    665\u001b[0m         \u001b[0;32mif\u001b[0m \u001b[0;32mnot\u001b[0m \u001b[0mself\u001b[0m\u001b[0;34m.\u001b[0m\u001b[0mready\u001b[0m\u001b[0;34m(\u001b[0m\u001b[0;34m)\u001b[0m\u001b[0;34m:\u001b[0m\u001b[0;34m\u001b[0m\u001b[0;34m\u001b[0m\u001b[0m\n\u001b[1;32m    666\u001b[0m             \u001b[0;32mraise\u001b[0m \u001b[0mTimeoutError\u001b[0m\u001b[0;34m\u001b[0m\u001b[0;34m\u001b[0m\u001b[0m\n",
            "\u001b[0;32m/usr/lib/python3.6/multiprocessing/pool.py\u001b[0m in \u001b[0;36mwait\u001b[0;34m(self, timeout)\u001b[0m\n\u001b[1;32m    659\u001b[0m \u001b[0;34m\u001b[0m\u001b[0m\n\u001b[1;32m    660\u001b[0m     \u001b[0;32mdef\u001b[0m \u001b[0mwait\u001b[0m\u001b[0;34m(\u001b[0m\u001b[0mself\u001b[0m\u001b[0;34m,\u001b[0m \u001b[0mtimeout\u001b[0m\u001b[0;34m=\u001b[0m\u001b[0;32mNone\u001b[0m\u001b[0;34m)\u001b[0m\u001b[0;34m:\u001b[0m\u001b[0;34m\u001b[0m\u001b[0;34m\u001b[0m\u001b[0m\n\u001b[0;32m--> 661\u001b[0;31m         \u001b[0mself\u001b[0m\u001b[0;34m.\u001b[0m\u001b[0m_event\u001b[0m\u001b[0;34m.\u001b[0m\u001b[0mwait\u001b[0m\u001b[0;34m(\u001b[0m\u001b[0mtimeout\u001b[0m\u001b[0;34m)\u001b[0m\u001b[0;34m\u001b[0m\u001b[0;34m\u001b[0m\u001b[0m\n\u001b[0m\u001b[1;32m    662\u001b[0m \u001b[0;34m\u001b[0m\u001b[0m\n\u001b[1;32m    663\u001b[0m     \u001b[0;32mdef\u001b[0m \u001b[0mget\u001b[0m\u001b[0;34m(\u001b[0m\u001b[0mself\u001b[0m\u001b[0;34m,\u001b[0m \u001b[0mtimeout\u001b[0m\u001b[0;34m=\u001b[0m\u001b[0;32mNone\u001b[0m\u001b[0;34m)\u001b[0m\u001b[0;34m:\u001b[0m\u001b[0;34m\u001b[0m\u001b[0;34m\u001b[0m\u001b[0m\n",
            "\u001b[0;32m/usr/lib/python3.6/threading.py\u001b[0m in \u001b[0;36mwait\u001b[0;34m(self, timeout)\u001b[0m\n\u001b[1;32m    549\u001b[0m             \u001b[0msignaled\u001b[0m \u001b[0;34m=\u001b[0m \u001b[0mself\u001b[0m\u001b[0;34m.\u001b[0m\u001b[0m_flag\u001b[0m\u001b[0;34m\u001b[0m\u001b[0;34m\u001b[0m\u001b[0m\n\u001b[1;32m    550\u001b[0m             \u001b[0;32mif\u001b[0m \u001b[0;32mnot\u001b[0m \u001b[0msignaled\u001b[0m\u001b[0;34m:\u001b[0m\u001b[0;34m\u001b[0m\u001b[0;34m\u001b[0m\u001b[0m\n\u001b[0;32m--> 551\u001b[0;31m                 \u001b[0msignaled\u001b[0m \u001b[0;34m=\u001b[0m \u001b[0mself\u001b[0m\u001b[0;34m.\u001b[0m\u001b[0m_cond\u001b[0m\u001b[0;34m.\u001b[0m\u001b[0mwait\u001b[0m\u001b[0;34m(\u001b[0m\u001b[0mtimeout\u001b[0m\u001b[0;34m)\u001b[0m\u001b[0;34m\u001b[0m\u001b[0;34m\u001b[0m\u001b[0m\n\u001b[0m\u001b[1;32m    552\u001b[0m             \u001b[0;32mreturn\u001b[0m \u001b[0msignaled\u001b[0m\u001b[0;34m\u001b[0m\u001b[0;34m\u001b[0m\u001b[0m\n\u001b[1;32m    553\u001b[0m \u001b[0;34m\u001b[0m\u001b[0m\n",
            "\u001b[0;32m/usr/lib/python3.6/threading.py\u001b[0m in \u001b[0;36mwait\u001b[0;34m(self, timeout)\u001b[0m\n\u001b[1;32m    293\u001b[0m         \u001b[0;32mtry\u001b[0m\u001b[0;34m:\u001b[0m    \u001b[0;31m# restore state no matter what (e.g., KeyboardInterrupt)\u001b[0m\u001b[0;34m\u001b[0m\u001b[0;34m\u001b[0m\u001b[0m\n\u001b[1;32m    294\u001b[0m             \u001b[0;32mif\u001b[0m \u001b[0mtimeout\u001b[0m \u001b[0;32mis\u001b[0m \u001b[0;32mNone\u001b[0m\u001b[0;34m:\u001b[0m\u001b[0;34m\u001b[0m\u001b[0;34m\u001b[0m\u001b[0m\n\u001b[0;32m--> 295\u001b[0;31m                 \u001b[0mwaiter\u001b[0m\u001b[0;34m.\u001b[0m\u001b[0macquire\u001b[0m\u001b[0;34m(\u001b[0m\u001b[0;34m)\u001b[0m\u001b[0;34m\u001b[0m\u001b[0;34m\u001b[0m\u001b[0m\n\u001b[0m\u001b[1;32m    296\u001b[0m                 \u001b[0mgotit\u001b[0m \u001b[0;34m=\u001b[0m \u001b[0;32mTrue\u001b[0m\u001b[0;34m\u001b[0m\u001b[0;34m\u001b[0m\u001b[0m\n\u001b[1;32m    297\u001b[0m             \u001b[0;32melse\u001b[0m\u001b[0;34m:\u001b[0m\u001b[0;34m\u001b[0m\u001b[0;34m\u001b[0m\u001b[0m\n",
            "\u001b[0;31mKeyboardInterrupt\u001b[0m: "
          ]
        }
      ]
    },
    {
      "metadata": {
        "id": "2fXs7u0nyqiL",
        "colab_type": "code",
        "outputId": "fb3fda31-b0ed-4d9c-8944-c4567b5d6b1e",
        "colab": {
          "base_uri": "https://localhost:8080/",
          "height": 35
        }
      },
      "cell_type": "code",
      "source": [
        "model_json = model.to_json()\n",
        "with open(\"drive/My Drive/vision_dataset/cnn_model.json\", \"w\") as json_file:\n",
        "    json_file.write(model_json)\n",
        "# serialize weights to HDF5\n",
        "model.save_weights(\"drive/My Drive/vision_dataset/cnn_model.h5\")\n",
        "print(\"Saved model to disk\")"
      ],
      "execution_count": 0,
      "outputs": [
        {
          "output_type": "stream",
          "text": [
            "Saved model to disk\n"
          ],
          "name": "stdout"
        }
      ]
    },
    {
      "metadata": {
        "id": "GkPrxM6v4tZw",
        "colab_type": "code",
        "outputId": "769dfcbf-da68-4c61-8289-0b5419815af7",
        "colab": {
          "base_uri": "https://localhost:8080/",
          "height": 187
        }
      },
      "cell_type": "code",
      "source": [
        "image = cv2.imread(\"leather_moderate_001_new.jpg\")\n",
        "image = cv2.resize(image, (img_height, img_width)) "
      ],
      "execution_count": 0,
      "outputs": [
        {
          "output_type": "error",
          "ename": "error",
          "evalue": "ignored",
          "traceback": [
            "\u001b[0;31m---------------------------------------------------------------------------\u001b[0m",
            "\u001b[0;31merror\u001b[0m                                     Traceback (most recent call last)",
            "\u001b[0;32m<ipython-input-22-4f10b3861a8c>\u001b[0m in \u001b[0;36m<module>\u001b[0;34m()\u001b[0m\n\u001b[1;32m      1\u001b[0m \u001b[0mimage\u001b[0m \u001b[0;34m=\u001b[0m \u001b[0mcv2\u001b[0m\u001b[0;34m.\u001b[0m\u001b[0mimread\u001b[0m\u001b[0;34m(\u001b[0m\u001b[0;34m\"leather_moderate_001_new.jpg\"\u001b[0m\u001b[0;34m)\u001b[0m\u001b[0;34m\u001b[0m\u001b[0;34m\u001b[0m\u001b[0m\n\u001b[0;32m----> 2\u001b[0;31m \u001b[0mimage\u001b[0m \u001b[0;34m=\u001b[0m \u001b[0mcv2\u001b[0m\u001b[0;34m.\u001b[0m\u001b[0mresize\u001b[0m\u001b[0;34m(\u001b[0m\u001b[0mimage\u001b[0m\u001b[0;34m,\u001b[0m \u001b[0;34m(\u001b[0m\u001b[0mimg_height\u001b[0m\u001b[0;34m,\u001b[0m \u001b[0mimg_width\u001b[0m\u001b[0;34m)\u001b[0m\u001b[0;34m)\u001b[0m\u001b[0;34m\u001b[0m\u001b[0;34m\u001b[0m\u001b[0m\n\u001b[0m",
            "\u001b[0;31merror\u001b[0m: OpenCV(3.4.3) /io/opencv/modules/imgproc/src/resize.cpp:4044: error: (-215:Assertion failed) !ssize.empty() in function 'resize'\n"
          ]
        }
      ]
    },
    {
      "metadata": {
        "id": "lyP_XpQg9JFW",
        "colab_type": "code",
        "colab": {}
      },
      "cell_type": "code",
      "source": [
        "x = []\n",
        "x.append(image)\n",
        "x = np.array(x)\n",
        "print((model.predict(x)))"
      ],
      "execution_count": 0,
      "outputs": []
    },
    {
      "metadata": {
        "id": "WrWBngMFA3uG",
        "colab_type": "code",
        "colab": {}
      },
      "cell_type": "code",
      "source": [
        "y_pred = model.predict_classes(x_test)\n"
      ],
      "execution_count": 0,
      "outputs": []
    },
    {
      "metadata": {
        "id": "qbKHLbpKD76b",
        "colab_type": "code",
        "colab": {}
      },
      "cell_type": "code",
      "source": [
        "print(y_pred)"
      ],
      "execution_count": 0,
      "outputs": []
    },
    {
      "metadata": {
        "id": "kIxdXSfXD-DI",
        "colab_type": "code",
        "colab": {}
      },
      "cell_type": "code",
      "source": [
        ""
      ],
      "execution_count": 0,
      "outputs": []
    }
  ]
}